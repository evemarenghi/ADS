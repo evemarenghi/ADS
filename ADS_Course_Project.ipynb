{
 "cells": [
  {
   "cell_type": "markdown",
   "metadata": {},
   "source": [
    "<br> **CUSP Applied Data Science course project**\n",
    "<br> December 2018\n",
    "<br> Professor Tim Savage\n",
    "<br> created by Eve Marenghi and Tarek Arafat"
   ]
  },
  {
   "cell_type": "markdown",
   "metadata": {},
   "source": [
    "## An investigation into the rate of return to solar photovoltaic panel installation"
   ]
  },
  {
   "cell_type": "code",
   "execution_count": 1,
   "metadata": {},
   "outputs": [],
   "source": [
    "# import packages \n",
    "import pandas as pd\n",
    "import os\n",
    "from urllib.request import Request, urlopen\n",
    "import json\n",
    "import matplotlib.pyplot as plt\n",
    "import statsmodels.formula.api as smf\n",
    "import datetime\n",
    "import numpy as np\n",
    "import pandas_datareader.data as web\n",
    "import pymc3 as pm\n",
    "from tabulate import tabulate\n",
    "from sklearn import neighbors, datasets\n",
    "import statsmodels.formula.api as smf\n",
    "from tabulate import tabulate\n",
    "from sklearn.metrics import confusion_matrix\n",
    "from sklearn.metrics import mean_squared_error\n",
    "import sklearn.preprocessing as preprocessing\n",
    "try: \n",
    "    import urllib2 as urllib\n",
    "except ImportError: \n",
    "    import urllib.request as urllib\n",
    "import seaborn as sns\n",
    "sns.set(context='notebook', style='whitegrid', palette='deep', font='sans-serif', font_scale=1, rc=None)"
   ]
  },
  {
   "cell_type": "markdown",
   "metadata": {},
   "source": [
    "## upload the data"
   ]
  },
  {
   "cell_type": "markdown",
   "metadata": {},
   "source": [
    "**PLUTO DATA DICTIONARY** from https://www1.nyc.gov/assets/planning/download/pdf/data-maps/open-data/pluto_datadictionary.pdf?r=18v1\n",
    "- APPDate: The date of the Apportionment\n",
    "- Address: An address for the tax lot\n",
    "- AssessLand: The tentative assessed land value for Fiscal Year 2018\n",
    "- AssessTot: The tentative assessed total value for Fiscal Year 2018\n",
    "- BldgArea: The total gross area in square feet\n",
    "- BldgClass: A code describing the major use of structures on the tax lot\n",
    "- Borough: The borough that the tax lot is located in\n",
    "- BuiltFAR: The Built Floor Area Ratio (FAR) is the total building floor area divided by the area of the tax lot\n",
    "- CB2010: The 2010 census block that the tax lot is located in\n",
    "- CT2010: The 2010 census tract that the tax lot is located in\n",
    "- ComArea: An estimate of the exterior dimensions of the portion of the structure(s) allocated for commercial use\n",
    "- CommFAR: The Maximum Allowable Commercial Floor Area Ratio (FAR)\n",
    "- GarageArea: An estimate of the exterior dimensions of the portion of the structure(s) allocated for garage use\n",
    "- Lot: The number of the tax lot.\n",
    "- LotArea: Total area of the tax lot, expressed in square feet rounded to the nearest integer\n",
    "- LotType: A code indicating the location of the tax lot to another tax lot and/or the water\n",
    "- NumBldgs: The number of buildings on the tax lot.\n",
    "- NumFloors: In the tallest building on the tax lot, the number of full and partial stories starting from the ground floor\n",
    "- OfficeArea: An estimate of the exterior dimensions of the portion of the structure(s)\n",
    "- ResArea: An estimate of the exterior dimensions of the portion of the structure(s) allocated for residential use\n",
    "- ResidFAR: The Maximum Allowable Residential Floor Area Ratio (FAR) \n",
    "- UnitsRes: The sum of residential units in all buildings on the tax lot\n",
    "- UnitsTotal: The sum of residential and non-residential (offices, retail stores, etc.) units in all buildings on the tax lot\n",
    "- Version: The Version Number related to the release of PLUTO\n",
    "- XCoord: The X coordinate of the XY coordinate pair which depicts the approximate location of the lot\n",
    "- YCoord: The Y coordinate of the XY coordinate pair which depicts the approximate location of the lot (The XY coordinates are expressed in the New York-Long Island State Plane coordinate system)\n",
    "- YearBuilt: The year construction of the building was completed\n",
    "- ZipCode: The zip code that the tax lot is located in"
   ]
  },
  {
   "cell_type": "code",
   "execution_count": 2,
   "metadata": {},
   "outputs": [
    {
     "name": "stderr",
     "output_type": "stream",
     "text": [
      "/usr/local/Anaconda3-5.0.0-Linux-x86_64/envs/ADS/lib/python3.5/site-packages/IPython/core/interactiveshell.py:2785: DtypeWarning: Columns (20,23,24,26,64) have mixed types. Specify dtype option on import or set low_memory=False.\n",
      "  interactivity=interactivity, compiler=compiler, result=result)\n",
      "/usr/local/Anaconda3-5.0.0-Linux-x86_64/envs/ADS/lib/python3.5/site-packages/IPython/core/interactiveshell.py:2785: DtypeWarning: Columns (19,20,22,23,24,25,26,64,65,80) have mixed types. Specify dtype option on import or set low_memory=False.\n",
      "  interactivity=interactivity, compiler=compiler, result=result)\n",
      "/usr/local/Anaconda3-5.0.0-Linux-x86_64/envs/ADS/lib/python3.5/site-packages/IPython/core/interactiveshell.py:2785: DtypeWarning: Columns (19,20,22,23,64,65,80) have mixed types. Specify dtype option on import or set low_memory=False.\n",
      "  interactivity=interactivity, compiler=compiler, result=result)\n",
      "/usr/local/Anaconda3-5.0.0-Linux-x86_64/envs/ADS/lib/python3.5/site-packages/IPython/core/interactiveshell.py:2785: DtypeWarning: Columns (19,20,22,23,64,65,77) have mixed types. Specify dtype option on import or set low_memory=False.\n",
      "  interactivity=interactivity, compiler=compiler, result=result)\n",
      "/usr/local/Anaconda3-5.0.0-Linux-x86_64/envs/ADS/lib/python3.5/site-packages/IPython/core/interactiveshell.py:2785: DtypeWarning: Columns (19,20,22,23,24,64,65,80) have mixed types. Specify dtype option on import or set low_memory=False.\n",
      "  interactivity=interactivity, compiler=compiler, result=result)\n"
     ]
    }
   ],
   "source": [
    "# read in the 2018 PLUTO data\n",
    "mn = pd.read_csv(\"MN_18v1.csv\")\n",
    "bk = pd.read_csv(\"BK_18v1.csv\")\n",
    "bx = pd.read_csv(\"BX_18v1.csv\")\n",
    "qn = pd.read_csv(\"QN_18v1.csv\")\n",
    "si = pd.read_csv(\"SI_18v1.csv\")"
   ]
  },
  {
   "cell_type": "code",
   "execution_count": 3,
   "metadata": {},
   "outputs": [],
   "source": [
    "# keep only the columns we need\n",
    "bk_ = bk[['Address', 'AssessLand', 'AssessTot',\n",
    "       'BldgArea', 'BldgClass', 'Borough', 'BuiltFAR', 'CB2010', 'CT2010',\n",
    "       'Lot', 'LotArea', 'LotType', 'NumBldgs', 'NumFloors',  'UnitsTotal', \n",
    "       'Version', 'XCoord','YCoord', 'YearBuilt', 'ZipCode']]\n",
    "mn_ = mn[['Address', 'AssessLand', 'AssessTot',\n",
    "       'BldgArea', 'BldgClass', 'Borough', 'BuiltFAR', 'CB2010', 'CT2010',\n",
    "       'Lot', 'LotArea', 'LotType', 'NumBldgs', 'NumFloors',  'UnitsTotal', \n",
    "       'Version', 'XCoord','YCoord', 'YearBuilt', 'ZipCode']]\n",
    "qn_ = qn[['Address', 'AssessLand', 'AssessTot',\n",
    "       'BldgArea', 'BldgClass', 'Borough', 'BuiltFAR', 'CB2010', 'CT2010',\n",
    "       'Lot', 'LotArea', 'LotType', 'NumBldgs', 'NumFloors',  'UnitsTotal', \n",
    "       'Version', 'XCoord','YCoord', 'YearBuilt', 'ZipCode']]\n",
    "si_ = si[['Address', 'AssessLand', 'AssessTot',\n",
    "       'BldgArea', 'BldgClass', 'Borough', 'BuiltFAR', 'CB2010', 'CT2010',\n",
    "       'Lot', 'LotArea', 'LotType', 'NumBldgs', 'NumFloors',  'UnitsTotal', \n",
    "       'Version', 'XCoord','YCoord', 'YearBuilt', 'ZipCode']]\n",
    "bx_ = bx[['Address', 'AssessLand', 'AssessTot',\n",
    "       'BldgArea', 'BldgClass', 'Borough', 'BuiltFAR', 'CB2010', 'CT2010',\n",
    "       'Lot', 'LotArea', 'LotType', 'NumBldgs', 'NumFloors',  'UnitsTotal', \n",
    "       'Version', 'XCoord','YCoord', 'YearBuilt', 'ZipCode']]"
   ]
  },
  {
   "cell_type": "code",
   "execution_count": 4,
   "metadata": {},
   "outputs": [],
   "source": [
    "# concatenate borough dataframes \n",
    "pluto = pd.concat([mn_, bk_, bx_, qn_, si_])"
   ]
  },
  {
   "cell_type": "code",
   "execution_count": 5,
   "metadata": {},
   "outputs": [],
   "source": [
    "# read nyserda data into a df \n",
    "solar = pd.read_csv(\"solar_data.csv\")"
   ]
  },
  {
   "cell_type": "code",
   "execution_count": 6,
   "metadata": {},
   "outputs": [],
   "source": [
    "# keep only the columns we need \n",
    "ny = solar[['Address', 'Zip', 'Borough', 'Total System Size', 'Cost per Watt', \n",
    "              'Total Cost Before NYSERDA Incentive', 'Application Received Date']]"
   ]
  },
  {
   "cell_type": "code",
   "execution_count": 7,
   "metadata": {},
   "outputs": [
    {
     "data": {
      "text/plain": [
       "(1896, 7)"
      ]
     },
     "execution_count": 7,
     "metadata": {},
     "output_type": "execute_result"
    }
   ],
   "source": [
    "ny.shape"
   ]
  },
  {
   "cell_type": "markdown",
   "metadata": {},
   "source": [
    "## data cleaning"
   ]
  },
  {
   "cell_type": "code",
   "execution_count": 8,
   "metadata": {},
   "outputs": [
    {
     "name": "stderr",
     "output_type": "stream",
     "text": [
      "/usr/local/Anaconda3-5.0.0-Linux-x86_64/envs/ADS/lib/python3.5/site-packages/ipykernel_launcher.py:2: SettingWithCopyWarning: \n",
      "A value is trying to be set on a copy of a slice from a DataFrame.\n",
      "Try using .loc[row_indexer,col_indexer] = value instead\n",
      "\n",
      "See the caveats in the documentation: http://pandas.pydata.org/pandas-docs/stable/indexing.html#indexing-view-versus-copy\n",
      "  \n"
     ]
    }
   ],
   "source": [
    "# lowercase addresses\n",
    "ny['Address'] = ny['Address'].str.lower()\n",
    "pluto['Address'] = pluto['Address'].str.lower()"
   ]
  },
  {
   "cell_type": "code",
   "execution_count": 9,
   "metadata": {},
   "outputs": [
    {
     "name": "stderr",
     "output_type": "stream",
     "text": [
      "/usr/local/Anaconda3-5.0.0-Linux-x86_64/envs/ADS/lib/python3.5/site-packages/ipykernel_launcher.py:2: SettingWithCopyWarning: \n",
      "A value is trying to be set on a copy of a slice from a DataFrame.\n",
      "Try using .loc[row_indexer,col_indexer] = value instead\n",
      "\n",
      "See the caveats in the documentation: http://pandas.pydata.org/pandas-docs/stable/indexing.html#indexing-view-versus-copy\n",
      "  \n",
      "/usr/local/Anaconda3-5.0.0-Linux-x86_64/envs/ADS/lib/python3.5/site-packages/ipykernel_launcher.py:3: SettingWithCopyWarning: \n",
      "A value is trying to be set on a copy of a slice from a DataFrame.\n",
      "Try using .loc[row_indexer,col_indexer] = value instead\n",
      "\n",
      "See the caveats in the documentation: http://pandas.pydata.org/pandas-docs/stable/indexing.html#indexing-view-versus-copy\n",
      "  This is separate from the ipykernel package so we can avoid doing imports until\n",
      "/usr/local/Anaconda3-5.0.0-Linux-x86_64/envs/ADS/lib/python3.5/site-packages/ipykernel_launcher.py:4: SettingWithCopyWarning: \n",
      "A value is trying to be set on a copy of a slice from a DataFrame.\n",
      "Try using .loc[row_indexer,col_indexer] = value instead\n",
      "\n",
      "See the caveats in the documentation: http://pandas.pydata.org/pandas-docs/stable/indexing.html#indexing-view-versus-copy\n",
      "  after removing the cwd from sys.path.\n",
      "/usr/local/Anaconda3-5.0.0-Linux-x86_64/envs/ADS/lib/python3.5/site-packages/ipykernel_launcher.py:5: SettingWithCopyWarning: \n",
      "A value is trying to be set on a copy of a slice from a DataFrame.\n",
      "Try using .loc[row_indexer,col_indexer] = value instead\n",
      "\n",
      "See the caveats in the documentation: http://pandas.pydata.org/pandas-docs/stable/indexing.html#indexing-view-versus-copy\n",
      "  \"\"\"\n"
     ]
    }
   ],
   "source": [
    "# replace north, south, east, west \n",
    "ny['Address'] = ny['Address'].str.replace(\" n \", \"north\")\n",
    "ny['Address'] = ny['Address'].str.replace(\" s \", \"south\")\n",
    "ny['Address'] = ny['Address'].str.replace(\" e \", \"east\")\n",
    "ny['Address'] = ny['Address'].str.replace(\" w \", \"west\")"
   ]
  },
  {
   "cell_type": "code",
   "execution_count": 10,
   "metadata": {},
   "outputs": [
    {
     "name": "stderr",
     "output_type": "stream",
     "text": [
      "/usr/local/Anaconda3-5.0.0-Linux-x86_64/envs/ADS/lib/python3.5/site-packages/ipykernel_launcher.py:2: SettingWithCopyWarning: \n",
      "A value is trying to be set on a copy of a slice from a DataFrame.\n",
      "Try using .loc[row_indexer,col_indexer] = value instead\n",
      "\n",
      "See the caveats in the documentation: http://pandas.pydata.org/pandas-docs/stable/indexing.html#indexing-view-versus-copy\n",
      "  \n",
      "/usr/local/Anaconda3-5.0.0-Linux-x86_64/envs/ADS/lib/python3.5/site-packages/ipykernel_launcher.py:4: SettingWithCopyWarning: \n",
      "A value is trying to be set on a copy of a slice from a DataFrame.\n",
      "Try using .loc[row_indexer,col_indexer] = value instead\n",
      "\n",
      "See the caveats in the documentation: http://pandas.pydata.org/pandas-docs/stable/indexing.html#indexing-view-versus-copy\n",
      "  after removing the cwd from sys.path.\n",
      "/usr/local/Anaconda3-5.0.0-Linux-x86_64/envs/ADS/lib/python3.5/site-packages/ipykernel_launcher.py:6: SettingWithCopyWarning: \n",
      "A value is trying to be set on a copy of a slice from a DataFrame.\n",
      "Try using .loc[row_indexer,col_indexer] = value instead\n",
      "\n",
      "See the caveats in the documentation: http://pandas.pydata.org/pandas-docs/stable/indexing.html#indexing-view-versus-copy\n",
      "  \n",
      "/usr/local/Anaconda3-5.0.0-Linux-x86_64/envs/ADS/lib/python3.5/site-packages/ipykernel_launcher.py:8: SettingWithCopyWarning: \n",
      "A value is trying to be set on a copy of a slice from a DataFrame.\n",
      "Try using .loc[row_indexer,col_indexer] = value instead\n",
      "\n",
      "See the caveats in the documentation: http://pandas.pydata.org/pandas-docs/stable/indexing.html#indexing-view-versus-copy\n",
      "  \n",
      "/usr/local/Anaconda3-5.0.0-Linux-x86_64/envs/ADS/lib/python3.5/site-packages/ipykernel_launcher.py:9: SettingWithCopyWarning: \n",
      "A value is trying to be set on a copy of a slice from a DataFrame.\n",
      "Try using .loc[row_indexer,col_indexer] = value instead\n",
      "\n",
      "See the caveats in the documentation: http://pandas.pydata.org/pandas-docs/stable/indexing.html#indexing-view-versus-copy\n",
      "  if __name__ == '__main__':\n",
      "/usr/local/Anaconda3-5.0.0-Linux-x86_64/envs/ADS/lib/python3.5/site-packages/ipykernel_launcher.py:10: SettingWithCopyWarning: \n",
      "A value is trying to be set on a copy of a slice from a DataFrame.\n",
      "Try using .loc[row_indexer,col_indexer] = value instead\n",
      "\n",
      "See the caveats in the documentation: http://pandas.pydata.org/pandas-docs/stable/indexing.html#indexing-view-versus-copy\n",
      "  # Remove the CWD from sys.path while we load stuff.\n",
      "/usr/local/Anaconda3-5.0.0-Linux-x86_64/envs/ADS/lib/python3.5/site-packages/ipykernel_launcher.py:12: SettingWithCopyWarning: \n",
      "A value is trying to be set on a copy of a slice from a DataFrame.\n",
      "Try using .loc[row_indexer,col_indexer] = value instead\n",
      "\n",
      "See the caveats in the documentation: http://pandas.pydata.org/pandas-docs/stable/indexing.html#indexing-view-versus-copy\n",
      "  if sys.path[0] == '':\n",
      "/usr/local/Anaconda3-5.0.0-Linux-x86_64/envs/ADS/lib/python3.5/site-packages/ipykernel_launcher.py:14: SettingWithCopyWarning: \n",
      "A value is trying to be set on a copy of a slice from a DataFrame.\n",
      "Try using .loc[row_indexer,col_indexer] = value instead\n",
      "\n",
      "See the caveats in the documentation: http://pandas.pydata.org/pandas-docs/stable/indexing.html#indexing-view-versus-copy\n",
      "  \n",
      "/usr/local/Anaconda3-5.0.0-Linux-x86_64/envs/ADS/lib/python3.5/site-packages/ipykernel_launcher.py:16: SettingWithCopyWarning: \n",
      "A value is trying to be set on a copy of a slice from a DataFrame.\n",
      "Try using .loc[row_indexer,col_indexer] = value instead\n",
      "\n",
      "See the caveats in the documentation: http://pandas.pydata.org/pandas-docs/stable/indexing.html#indexing-view-versus-copy\n",
      "  app.launch_new_instance()\n"
     ]
    }
   ],
   "source": [
    "# remove white space from end of address \n",
    "ny['Address'] = ny['Address'].str.rstrip()\n",
    "# remove fl from end of addresses \n",
    "ny['Address'] = ny['Address'].str.rstrip(\"fl\")\n",
    "# remove white space\n",
    "ny['Address'] = ny['Address'].str.rstrip()\n",
    "# remove 1, 2, 3 from end of address \n",
    "ny['Address'] = ny['Address'].str.rstrip(\"1\")\n",
    "ny['Address'] = ny['Address'].str.rstrip(\"2\")\n",
    "ny['Address'] = ny['Address'].str.rstrip(\"3\")\n",
    "# remove hashes \n",
    "ny['Address'] = ny['Address'].str.replace(\"#\", \"\")\n",
    "# remove periods \n",
    "ny['Address'] = ny['Address'].str.replace(\".\", \"\")\n",
    "# remove white space\n",
    "ny['Address'] = ny['Address'].str.rstrip()"
   ]
  },
  {
   "cell_type": "code",
   "execution_count": 11,
   "metadata": {},
   "outputs": [
    {
     "name": "stderr",
     "output_type": "stream",
     "text": [
      "/usr/local/Anaconda3-5.0.0-Linux-x86_64/envs/ADS/lib/python3.5/site-packages/ipykernel_launcher.py:2: SettingWithCopyWarning: \n",
      "A value is trying to be set on a copy of a slice from a DataFrame.\n",
      "Try using .loc[row_indexer,col_indexer] = value instead\n",
      "\n",
      "See the caveats in the documentation: http://pandas.pydata.org/pandas-docs/stable/indexing.html#indexing-view-versus-copy\n",
      "  \n",
      "/usr/local/Anaconda3-5.0.0-Linux-x86_64/envs/ADS/lib/python3.5/site-packages/ipykernel_launcher.py:3: SettingWithCopyWarning: \n",
      "A value is trying to be set on a copy of a slice from a DataFrame.\n",
      "Try using .loc[row_indexer,col_indexer] = value instead\n",
      "\n",
      "See the caveats in the documentation: http://pandas.pydata.org/pandas-docs/stable/indexing.html#indexing-view-versus-copy\n",
      "  This is separate from the ipykernel package so we can avoid doing imports until\n"
     ]
    }
   ],
   "source": [
    "# replace ave, expy\n",
    "ny['Address'] = ny['Address'].str.replace(\" ave \", \"avenue\")\n",
    "ny['Address'] = ny['Address'].str.replace(\"expy\", \"expressway\")"
   ]
  },
  {
   "cell_type": "code",
   "execution_count": 12,
   "metadata": {},
   "outputs": [
    {
     "name": "stderr",
     "output_type": "stream",
     "text": [
      "/usr/local/Anaconda3-5.0.0-Linux-x86_64/envs/ADS/lib/python3.5/site-packages/ipykernel_launcher.py:2: SettingWithCopyWarning: \n",
      "A value is trying to be set on a copy of a slice from a DataFrame.\n",
      "Try using .loc[row_indexer,col_indexer] = value instead\n",
      "\n",
      "See the caveats in the documentation: http://pandas.pydata.org/pandas-docs/stable/indexing.html#indexing-view-versus-copy\n",
      "  \n",
      "/usr/local/Anaconda3-5.0.0-Linux-x86_64/envs/ADS/lib/python3.5/site-packages/ipykernel_launcher.py:3: SettingWithCopyWarning: \n",
      "A value is trying to be set on a copy of a slice from a DataFrame.\n",
      "Try using .loc[row_indexer,col_indexer] = value instead\n",
      "\n",
      "See the caveats in the documentation: http://pandas.pydata.org/pandas-docs/stable/indexing.html#indexing-view-versus-copy\n",
      "  This is separate from the ipykernel package so we can avoid doing imports until\n"
     ]
    }
   ],
   "source": [
    "# remove trailing rd and st \n",
    "ny['Address'] = ny['Address'].str.replace(\" rd \", \"\")\n",
    "ny['Address'] = ny['Address'].str.replace(\" st \", \"\")"
   ]
  },
  {
   "cell_type": "code",
   "execution_count": 13,
   "metadata": {},
   "outputs": [
    {
     "name": "stderr",
     "output_type": "stream",
     "text": [
      "/usr/local/Anaconda3-5.0.0-Linux-x86_64/envs/ADS/lib/python3.5/site-packages/ipykernel_launcher.py:2: SettingWithCopyWarning: \n",
      "A value is trying to be set on a copy of a slice from a DataFrame.\n",
      "Try using .loc[row_indexer,col_indexer] = value instead\n",
      "\n",
      "See the caveats in the documentation: http://pandas.pydata.org/pandas-docs/stable/indexing.html#indexing-view-versus-copy\n",
      "  \n",
      "/usr/local/Anaconda3-5.0.0-Linux-x86_64/envs/ADS/lib/python3.5/site-packages/ipykernel_launcher.py:3: SettingWithCopyWarning: \n",
      "A value is trying to be set on a copy of a slice from a DataFrame.\n",
      "Try using .loc[row_indexer,col_indexer] = value instead\n",
      "\n",
      "See the caveats in the documentation: http://pandas.pydata.org/pandas-docs/stable/indexing.html#indexing-view-versus-copy\n",
      "  This is separate from the ipykernel package so we can avoid doing imports until\n",
      "/usr/local/Anaconda3-5.0.0-Linux-x86_64/envs/ADS/lib/python3.5/site-packages/ipykernel_launcher.py:4: SettingWithCopyWarning: \n",
      "A value is trying to be set on a copy of a slice from a DataFrame.\n",
      "Try using .loc[row_indexer,col_indexer] = value instead\n",
      "\n",
      "See the caveats in the documentation: http://pandas.pydata.org/pandas-docs/stable/indexing.html#indexing-view-versus-copy\n",
      "  after removing the cwd from sys.path.\n"
     ]
    }
   ],
   "source": [
    "# replace th, rd, nd\n",
    "ny['Address'] = ny['Address'].str.replace(\"th\", \"\")\n",
    "ny['Address'] = ny['Address'].str.replace(\"rd\", \"\")\n",
    "ny['Address'] = ny['Address'].str.replace(\"nd\", \"\")"
   ]
  },
  {
   "cell_type": "code",
   "execution_count": 14,
   "metadata": {},
   "outputs": [],
   "source": [
    "# merge dfs \n",
    "merged = pluto.merge(ny,  how='inner', left_on=['ZipCode','Address'], \n",
    "                     right_on = ['Zip', 'Address'])"
   ]
  },
  {
   "cell_type": "code",
   "execution_count": 15,
   "metadata": {},
   "outputs": [
    {
     "data": {
      "text/plain": [
       "(1259, 26)"
      ]
     },
     "execution_count": 15,
     "metadata": {},
     "output_type": "execute_result"
    }
   ],
   "source": [
    "# check merged shape \n",
    "merged.shape"
   ]
  },
  {
   "cell_type": "code",
   "execution_count": 16,
   "metadata": {},
   "outputs": [],
   "source": [
    "# calculate age for each building\n",
    "merged['Age'] = 2018 - merged['YearBuilt']"
   ]
  },
  {
   "cell_type": "code",
   "execution_count": 17,
   "metadata": {},
   "outputs": [],
   "source": [
    "# drop non residential building types \n",
    "residential = merged.drop(merged[(merged['BldgClass'] == 'E1') |\n",
    "                        (merged['BldgClass'] == 'E7') | (merged['BldgClass'] == 'V9')].index)"
   ]
  },
  {
   "cell_type": "code",
   "execution_count": 18,
   "metadata": {},
   "outputs": [],
   "source": [
    "# drop row where age = 2018\n",
    "residential = residential.drop(residential[(residential.Age == 2018)].index)\n",
    "# keep lots with one building only \n",
    "residential = residential[residential.NumBldgs == 1]\n",
    "# drop rows where Assesstot = 0 \n",
    "# The Department of Finance calculates the assessed value by multiplying the\n",
    "# tax lot’s estimated full market value by a uniform percentage for the property’s\n",
    "# tax class.\n",
    "residential = residential.drop(residential[(residential.AssessTot == 0)].index)"
   ]
  },
  {
   "cell_type": "code",
   "execution_count": 19,
   "metadata": {},
   "outputs": [],
   "source": [
    "# rename columns \n",
    "residential = residential.rename(columns={'Total System Size':'SystemSizekWh', 'Borough_x':'Bor'})"
   ]
  },
  {
   "cell_type": "code",
   "execution_count": 20,
   "metadata": {},
   "outputs": [
    {
     "name": "stdout",
     "output_type": "stream",
     "text": [
      "Percentage of properties in Queens: 31.267217630853995 %\n",
      "Percentage of properties in Brooklyn: 42.14876033057851 %\n",
      "Percentage of properties in the Bronx: 26.170798898071624 %\n",
      "Percentage of properties in Manhattan: 0.13774104683195593 %\n",
      "Percentage of properties in Staten Island: 0.27548209366391185 %\n"
     ]
    }
   ],
   "source": [
    "# get the percentage of properties in each borough \n",
    "print(\"Percentage of properties in Queens:\", \n",
    "      (len(residential.loc[residential.Bor == 'QN'].Address) / len(residential.index)) * 100, \"%\")\n",
    "print(\"Percentage of properties in Brooklyn:\", \n",
    "      (len(residential.loc[residential.Bor == 'BK'].Address) / len(residential.index)) * 100, \"%\")\n",
    "print(\"Percentage of properties in the Bronx:\", \n",
    "      (len(residential.loc[residential.Bor == 'BX'].Address) / len(residential.index)) * 100, \"%\")\n",
    "print(\"Percentage of properties in Manhattan:\", \n",
    "      (len(residential.loc[residential.Bor == 'MN'].Address) / len(residential.index)) * 100, \"%\")\n",
    "print(\"Percentage of properties in Staten Island:\", \n",
    "      (len(residential.loc[residential.Bor == 'SI'].Address) / len(residential.index)) * 100, \"%\")"
   ]
  },
  {
   "cell_type": "code",
   "execution_count": 21,
   "metadata": {},
   "outputs": [],
   "source": [
    "# drop Manhattan and Staten Island because they are not statistically significant \n",
    "residential = residential[(residential.Bor == 'QN') | (residential.Bor == 'BX') |\n",
    "                         (residential.Bor == 'BK')]"
   ]
  },
  {
   "cell_type": "code",
   "execution_count": 22,
   "metadata": {},
   "outputs": [],
   "source": [
    "# group by zip code \n",
    "zip_grouped = residential.groupby('ZipCode').count()\n",
    "zip_grouped.reset_index(inplace=True)"
   ]
  },
  {
   "cell_type": "code",
   "execution_count": 23,
   "metadata": {},
   "outputs": [],
   "source": [
    "# create a 'weights' table \n",
    "weights = zip_grouped[['ZipCode', 'Address']]\n",
    "weights = weights.rename(columns={'Address':'occurrences'})"
   ]
  },
  {
   "cell_type": "code",
   "execution_count": 24,
   "metadata": {},
   "outputs": [],
   "source": [
    "# get the weight for each zipcode to replicate distribution \n",
    "weights['weight'] = weights.occurrences / weights.occurrences.sum()"
   ]
  },
  {
   "cell_type": "code",
   "execution_count": 25,
   "metadata": {},
   "outputs": [],
   "source": [
    "# join with the weights table for sampling \n",
    "pluto_zips = pluto.merge(weights, left_on='ZipCode', right_on='ZipCode', how='inner')"
   ]
  },
  {
   "cell_type": "code",
   "execution_count": 26,
   "metadata": {},
   "outputs": [],
   "source": [
    "# take sample of the pluto table with desired zipcode distribution  \n",
    "pluto_weighted = pluto_zips.sample(n=726, replace=False, random_state=1824, weights='weight')"
   ]
  },
  {
   "cell_type": "code",
   "execution_count": 27,
   "metadata": {},
   "outputs": [],
   "source": [
    "# count how many occurrences we have of each zip code \n",
    "test = pluto_weighted.groupby('ZipCode').count()\n",
    "test = test.reset_index()"
   ]
  },
  {
   "cell_type": "code",
   "execution_count": 28,
   "metadata": {},
   "outputs": [],
   "source": [
    "# join test with weights to check distribution \n",
    "test2 = test.merge(weights, left_on='ZipCode', right_on='ZipCode')"
   ]
  },
  {
   "cell_type": "code",
   "execution_count": 29,
   "metadata": {},
   "outputs": [
    {
     "data": {
      "text/plain": [
       "array([0])"
      ]
     },
     "execution_count": 29,
     "metadata": {},
     "output_type": "execute_result"
    }
   ],
   "source": [
    "# calculate the difference to make sure we have the correct distribution by zip code \n",
    "test2['diff'] = test2.Address - test2.occurrences_x\n",
    "# correct --> difference = 0 means we have the same number for each zipcode \n",
    "test2['diff'].unique()"
   ]
  },
  {
   "cell_type": "code",
   "execution_count": 30,
   "metadata": {},
   "outputs": [],
   "source": [
    "# rename table to no_solar\n",
    "no_solar = pluto_weighted"
   ]
  },
  {
   "cell_type": "code",
   "execution_count": 31,
   "metadata": {},
   "outputs": [
    {
     "data": {
      "text/html": [
       "<div>\n",
       "<style scoped>\n",
       "    .dataframe tbody tr th:only-of-type {\n",
       "        vertical-align: middle;\n",
       "    }\n",
       "\n",
       "    .dataframe tbody tr th {\n",
       "        vertical-align: top;\n",
       "    }\n",
       "\n",
       "    .dataframe thead th {\n",
       "        text-align: right;\n",
       "    }\n",
       "</style>\n",
       "<table border=\"1\" class=\"dataframe\">\n",
       "  <thead>\n",
       "    <tr style=\"text-align: right;\">\n",
       "      <th></th>\n",
       "      <th>Address</th>\n",
       "      <th>AssessLand_x</th>\n",
       "      <th>AssessTot_x</th>\n",
       "      <th>BldgArea_x</th>\n",
       "      <th>BldgClass_x</th>\n",
       "      <th>Bor</th>\n",
       "      <th>BuiltFAR_x</th>\n",
       "      <th>CB2010_x</th>\n",
       "      <th>CT2010_x</th>\n",
       "      <th>Lot_x</th>\n",
       "      <th>...</th>\n",
       "      <th>NumBldgs_y</th>\n",
       "      <th>NumFloors_y</th>\n",
       "      <th>UnitsTotal_y</th>\n",
       "      <th>Version_y</th>\n",
       "      <th>XCoord_y</th>\n",
       "      <th>YCoord_y</th>\n",
       "      <th>YearBuilt_y</th>\n",
       "      <th>ZipCode_y</th>\n",
       "      <th>occurrences</th>\n",
       "      <th>weight</th>\n",
       "    </tr>\n",
       "  </thead>\n",
       "  <tbody>\n",
       "    <tr>\n",
       "      <th>0</th>\n",
       "      <td>4057 barnes avenue</td>\n",
       "      <td>10908</td>\n",
       "      <td>38541</td>\n",
       "      <td>4572</td>\n",
       "      <td>C0</td>\n",
       "      <td>BX</td>\n",
       "      <td>1.00</td>\n",
       "      <td>2000.0</td>\n",
       "      <td>406.00</td>\n",
       "      <td>88</td>\n",
       "      <td>...</td>\n",
       "      <td>1</td>\n",
       "      <td>3.00</td>\n",
       "      <td>3</td>\n",
       "      <td>18V1</td>\n",
       "      <td>1023918.0</td>\n",
       "      <td>263341.0</td>\n",
       "      <td>1990</td>\n",
       "      <td>10466.0</td>\n",
       "      <td>32</td>\n",
       "      <td>0.044260</td>\n",
       "    </tr>\n",
       "    <tr>\n",
       "      <th>1</th>\n",
       "      <td>130-47 244 street</td>\n",
       "      <td>9540</td>\n",
       "      <td>26100</td>\n",
       "      <td>1483</td>\n",
       "      <td>A2</td>\n",
       "      <td>QN</td>\n",
       "      <td>0.41</td>\n",
       "      <td>1006.0</td>\n",
       "      <td>616.02</td>\n",
       "      <td>1</td>\n",
       "      <td>...</td>\n",
       "      <td>1</td>\n",
       "      <td>1.67</td>\n",
       "      <td>1</td>\n",
       "      <td>18V1</td>\n",
       "      <td>1059843.0</td>\n",
       "      <td>185974.0</td>\n",
       "      <td>1955</td>\n",
       "      <td>11422.0</td>\n",
       "      <td>14</td>\n",
       "      <td>0.019364</td>\n",
       "    </tr>\n",
       "  </tbody>\n",
       "</table>\n",
       "<p>2 rows × 48 columns</p>\n",
       "</div>"
      ],
      "text/plain": [
       "              Address  AssessLand_x  AssessTot_x  BldgArea_x BldgClass_x Bor  \\\n",
       "0  4057 barnes avenue         10908        38541        4572          C0  BX   \n",
       "1   130-47 244 street          9540        26100        1483          A2  QN   \n",
       "\n",
       "   BuiltFAR_x  CB2010_x  CT2010_x  Lot_x    ...     NumBldgs_y  NumFloors_y  \\\n",
       "0        1.00    2000.0    406.00     88    ...              1         3.00   \n",
       "1        0.41    1006.0    616.02      1    ...              1         1.67   \n",
       "\n",
       "   UnitsTotal_y  Version_y   XCoord_y  YCoord_y  YearBuilt_y  ZipCode_y  \\\n",
       "0             3       18V1  1023918.0  263341.0         1990    10466.0   \n",
       "1             1       18V1  1059843.0  185974.0         1955    11422.0   \n",
       "\n",
       "   occurrences    weight  \n",
       "0           32  0.044260  \n",
       "1           14  0.019364  \n",
       "\n",
       "[2 rows x 48 columns]"
      ]
     },
     "execution_count": 31,
     "metadata": {},
     "output_type": "execute_result"
    }
   ],
   "source": [
    "# make sure there is no overlap between residential and no_solar tables \n",
    "overlap_check = residential.merge(no_solar, left_on='Address', right_on='Address', how='inner')\n",
    "overlap_check.head()"
   ]
  },
  {
   "cell_type": "code",
   "execution_count": 32,
   "metadata": {},
   "outputs": [],
   "source": [
    "# drop overlap addresses\n",
    "no_solar.drop(no_solar[no_solar.Address == '4057 barnes avenue'].index, inplace=True)\n",
    "no_solar.drop(no_solar[no_solar.Address == '130-47 244 street'].index, inplace=True)"
   ]
  },
  {
   "cell_type": "code",
   "execution_count": 33,
   "metadata": {},
   "outputs": [
    {
     "data": {
      "text/html": [
       "<div>\n",
       "<style scoped>\n",
       "    .dataframe tbody tr th:only-of-type {\n",
       "        vertical-align: middle;\n",
       "    }\n",
       "\n",
       "    .dataframe tbody tr th {\n",
       "        vertical-align: top;\n",
       "    }\n",
       "\n",
       "    .dataframe thead th {\n",
       "        text-align: right;\n",
       "    }\n",
       "</style>\n",
       "<table border=\"1\" class=\"dataframe\">\n",
       "  <thead>\n",
       "    <tr style=\"text-align: right;\">\n",
       "      <th></th>\n",
       "      <th>Address</th>\n",
       "      <th>AssessLand_x</th>\n",
       "      <th>AssessTot_x</th>\n",
       "      <th>BldgArea_x</th>\n",
       "      <th>BldgClass_x</th>\n",
       "      <th>Bor</th>\n",
       "      <th>BuiltFAR_x</th>\n",
       "      <th>CB2010_x</th>\n",
       "      <th>CT2010_x</th>\n",
       "      <th>Lot_x</th>\n",
       "      <th>...</th>\n",
       "      <th>NumBldgs_y</th>\n",
       "      <th>NumFloors_y</th>\n",
       "      <th>UnitsTotal_y</th>\n",
       "      <th>Version_y</th>\n",
       "      <th>XCoord_y</th>\n",
       "      <th>YCoord_y</th>\n",
       "      <th>YearBuilt_y</th>\n",
       "      <th>ZipCode_y</th>\n",
       "      <th>occurrences</th>\n",
       "      <th>weight</th>\n",
       "    </tr>\n",
       "  </thead>\n",
       "  <tbody>\n",
       "  </tbody>\n",
       "</table>\n",
       "<p>0 rows × 48 columns</p>\n",
       "</div>"
      ],
      "text/plain": [
       "Empty DataFrame\n",
       "Columns: [Address, AssessLand_x, AssessTot_x, BldgArea_x, BldgClass_x, Bor, BuiltFAR_x, CB2010_x, CT2010_x, Lot_x, LotArea_x, LotType_x, NumBldgs_x, NumFloors_x, UnitsTotal_x, Version_x, XCoord_x, YCoord_x, YearBuilt_x, ZipCode_x, Zip, Borough_y, SystemSizekWh, Cost per Watt, Total Cost Before NYSERDA Incentive, Application Received Date, Age, AssessLand_y, AssessTot_y, BldgArea_y, BldgClass_y, Borough, BuiltFAR_y, CB2010_y, CT2010_y, Lot_y, LotArea_y, LotType_y, NumBldgs_y, NumFloors_y, UnitsTotal_y, Version_y, XCoord_y, YCoord_y, YearBuilt_y, ZipCode_y, occurrences, weight]\n",
       "Index: []\n",
       "\n",
       "[0 rows x 48 columns]"
      ]
     },
     "execution_count": 33,
     "metadata": {},
     "output_type": "execute_result"
    }
   ],
   "source": [
    "# make sure there is no overlap between residential and no_solar tables \n",
    "overlap_check = residential.merge(no_solar, left_on='Address', right_on='Address', how='inner')\n",
    "overlap_check.head()"
   ]
  },
  {
   "cell_type": "code",
   "execution_count": 34,
   "metadata": {},
   "outputs": [],
   "source": [
    "# add age to the no_solar table \n",
    "no_solar['Age'] = 2018 - no_solar['YearBuilt']\n",
    "# drop rows with AssessTot = 0\n",
    "no_solar = no_solar.drop(no_solar[(no_solar.AssessTot == 0)].index)"
   ]
  },
  {
   "cell_type": "code",
   "execution_count": 35,
   "metadata": {},
   "outputs": [
    {
     "name": "stdout",
     "output_type": "stream",
     "text": [
      "Percentage of properties in Queens: 25.79750346740638 %\n",
      "Percentage of properties in Brooklyn: 51.17891816920943 %\n",
      "Percentage of properties in the Bronx: 23.02357836338419 %\n",
      "Percentage of properties in Manhattan: 0.0 %\n",
      "Percentage of properties in Staten Island: 0.0 %\n"
     ]
    }
   ],
   "source": [
    "# get the percentage of properties in each borough \n",
    "print(\"Percentage of properties in Queens:\", \n",
    "      (len(no_solar.loc[no_solar.Borough == 'QN'].Address) / len(no_solar.index)) * 100, \"%\")\n",
    "print(\"Percentage of properties in Brooklyn:\", \n",
    "      (len(no_solar.loc[no_solar.Borough == 'BK'].Address) / len(no_solar.index)) * 100, \"%\")\n",
    "print(\"Percentage of properties in the Bronx:\", \n",
    "      (len(no_solar.loc[no_solar.Borough == 'BX'].Address) / len(no_solar.index)) * 100, \"%\")\n",
    "print(\"Percentage of properties in Manhattan:\", \n",
    "      (len(no_solar.loc[no_solar.Borough == 'MN'].Address) / len(no_solar.index)) * 100, \"%\")\n",
    "print(\"Percentage of properties in Staten Island:\", \n",
    "      (len(no_solar.loc[no_solar.Borough == 'SI'].Address) / len(no_solar.index)) * 100, \"%\")"
   ]
  },
  {
   "cell_type": "markdown",
   "metadata": {},
   "source": [
    "## preprocessing"
   ]
  },
  {
   "cell_type": "code",
   "execution_count": 36,
   "metadata": {},
   "outputs": [
    {
     "data": {
      "text/html": [
       "<div>\n",
       "<style scoped>\n",
       "    .dataframe tbody tr th:only-of-type {\n",
       "        vertical-align: middle;\n",
       "    }\n",
       "\n",
       "    .dataframe tbody tr th {\n",
       "        vertical-align: top;\n",
       "    }\n",
       "\n",
       "    .dataframe thead th {\n",
       "        text-align: right;\n",
       "    }\n",
       "</style>\n",
       "<table border=\"1\" class=\"dataframe\">\n",
       "  <thead>\n",
       "    <tr style=\"text-align: right;\">\n",
       "      <th></th>\n",
       "      <th>AssessTot</th>\n",
       "      <th>BldgArea</th>\n",
       "      <th>BuiltFAR</th>\n",
       "      <th>NumFloors</th>\n",
       "      <th>Age</th>\n",
       "      <th>SystemSizekWh</th>\n",
       "    </tr>\n",
       "  </thead>\n",
       "  <tbody>\n",
       "    <tr>\n",
       "      <th>1</th>\n",
       "      <td>37977</td>\n",
       "      <td>3360</td>\n",
       "      <td>1.77</td>\n",
       "      <td>3.0</td>\n",
       "      <td>108</td>\n",
       "      <td>5.04</td>\n",
       "    </tr>\n",
       "    <tr>\n",
       "      <th>2</th>\n",
       "      <td>631746</td>\n",
       "      <td>10124</td>\n",
       "      <td>2.91</td>\n",
       "      <td>4.0</td>\n",
       "      <td>117</td>\n",
       "      <td>15.12</td>\n",
       "    </tr>\n",
       "    <tr>\n",
       "      <th>3</th>\n",
       "      <td>53024</td>\n",
       "      <td>3344</td>\n",
       "      <td>1.33</td>\n",
       "      <td>4.0</td>\n",
       "      <td>87</td>\n",
       "      <td>5.90</td>\n",
       "    </tr>\n",
       "    <tr>\n",
       "      <th>4</th>\n",
       "      <td>53745</td>\n",
       "      <td>2880</td>\n",
       "      <td>1.60</td>\n",
       "      <td>4.0</td>\n",
       "      <td>119</td>\n",
       "      <td>4.32</td>\n",
       "    </tr>\n",
       "    <tr>\n",
       "      <th>5</th>\n",
       "      <td>36396</td>\n",
       "      <td>3496</td>\n",
       "      <td>1.55</td>\n",
       "      <td>4.0</td>\n",
       "      <td>119</td>\n",
       "      <td>2.52</td>\n",
       "    </tr>\n",
       "  </tbody>\n",
       "</table>\n",
       "</div>"
      ],
      "text/plain": [
       "   AssessTot  BldgArea  BuiltFAR  NumFloors  Age  SystemSizekWh\n",
       "1      37977      3360      1.77        3.0  108           5.04\n",
       "2     631746     10124      2.91        4.0  117          15.12\n",
       "3      53024      3344      1.33        4.0   87           5.90\n",
       "4      53745      2880      1.60        4.0  119           4.32\n",
       "5      36396      3496      1.55        4.0  119           2.52"
      ]
     },
     "execution_count": 36,
     "metadata": {},
     "output_type": "execute_result"
    }
   ],
   "source": [
    "# keep only the columns we need to run the regression\n",
    "regress = residential[['AssessTot', 'BldgArea', 'BuiltFAR', 'NumFloors', 'Age', 'SystemSizekWh']]\n",
    "regress.head()"
   ]
  },
  {
   "cell_type": "code",
   "execution_count": 37,
   "metadata": {},
   "outputs": [
    {
     "data": {
      "text/html": [
       "<div>\n",
       "<style scoped>\n",
       "    .dataframe tbody tr th:only-of-type {\n",
       "        vertical-align: middle;\n",
       "    }\n",
       "\n",
       "    .dataframe tbody tr th {\n",
       "        vertical-align: top;\n",
       "    }\n",
       "\n",
       "    .dataframe thead th {\n",
       "        text-align: right;\n",
       "    }\n",
       "</style>\n",
       "<table border=\"1\" class=\"dataframe\">\n",
       "  <thead>\n",
       "    <tr style=\"text-align: right;\">\n",
       "      <th></th>\n",
       "      <th>AssessTot</th>\n",
       "      <th>BldgArea</th>\n",
       "      <th>BuiltFAR</th>\n",
       "      <th>NumFloors</th>\n",
       "      <th>Age</th>\n",
       "      <th>SystemSizekWh</th>\n",
       "    </tr>\n",
       "  </thead>\n",
       "  <tbody>\n",
       "    <tr>\n",
       "      <th>count</th>\n",
       "      <td>723.000000</td>\n",
       "      <td>723.000000</td>\n",
       "      <td>723.000000</td>\n",
       "      <td>723.000000</td>\n",
       "      <td>723.000000</td>\n",
       "      <td>723.000000</td>\n",
       "    </tr>\n",
       "    <tr>\n",
       "      <th>mean</th>\n",
       "      <td>31963.929461</td>\n",
       "      <td>2216.954357</td>\n",
       "      <td>0.851770</td>\n",
       "      <td>2.115422</td>\n",
       "      <td>68.847856</td>\n",
       "      <td>5.597895</td>\n",
       "    </tr>\n",
       "    <tr>\n",
       "      <th>std</th>\n",
       "      <td>40928.226807</td>\n",
       "      <td>1979.966004</td>\n",
       "      <td>0.430988</td>\n",
       "      <td>0.592567</td>\n",
       "      <td>33.127247</td>\n",
       "      <td>2.537561</td>\n",
       "    </tr>\n",
       "    <tr>\n",
       "      <th>min</th>\n",
       "      <td>7401.000000</td>\n",
       "      <td>414.000000</td>\n",
       "      <td>0.170000</td>\n",
       "      <td>0.000000</td>\n",
       "      <td>1.000000</td>\n",
       "      <td>1.080000</td>\n",
       "    </tr>\n",
       "    <tr>\n",
       "      <th>25%</th>\n",
       "      <td>20940.000000</td>\n",
       "      <td>1457.000000</td>\n",
       "      <td>0.580000</td>\n",
       "      <td>2.000000</td>\n",
       "      <td>43.000000</td>\n",
       "      <td>3.990000</td>\n",
       "    </tr>\n",
       "    <tr>\n",
       "      <th>50%</th>\n",
       "      <td>27253.000000</td>\n",
       "      <td>1975.000000</td>\n",
       "      <td>0.730000</td>\n",
       "      <td>2.000000</td>\n",
       "      <td>70.000000</td>\n",
       "      <td>5.040000</td>\n",
       "    </tr>\n",
       "    <tr>\n",
       "      <th>75%</th>\n",
       "      <td>33691.000000</td>\n",
       "      <td>2580.000000</td>\n",
       "      <td>1.060000</td>\n",
       "      <td>2.000000</td>\n",
       "      <td>98.000000</td>\n",
       "      <td>6.480000</td>\n",
       "    </tr>\n",
       "    <tr>\n",
       "      <th>max</th>\n",
       "      <td>631746.000000</td>\n",
       "      <td>31553.000000</td>\n",
       "      <td>3.830000</td>\n",
       "      <td>8.000000</td>\n",
       "      <td>119.000000</td>\n",
       "      <td>28.255000</td>\n",
       "    </tr>\n",
       "  </tbody>\n",
       "</table>\n",
       "</div>"
      ],
      "text/plain": [
       "           AssessTot      BldgArea    BuiltFAR   NumFloors         Age  \\\n",
       "count     723.000000    723.000000  723.000000  723.000000  723.000000   \n",
       "mean    31963.929461   2216.954357    0.851770    2.115422   68.847856   \n",
       "std     40928.226807   1979.966004    0.430988    0.592567   33.127247   \n",
       "min      7401.000000    414.000000    0.170000    0.000000    1.000000   \n",
       "25%     20940.000000   1457.000000    0.580000    2.000000   43.000000   \n",
       "50%     27253.000000   1975.000000    0.730000    2.000000   70.000000   \n",
       "75%     33691.000000   2580.000000    1.060000    2.000000   98.000000   \n",
       "max    631746.000000  31553.000000    3.830000    8.000000  119.000000   \n",
       "\n",
       "       SystemSizekWh  \n",
       "count     723.000000  \n",
       "mean        5.597895  \n",
       "std         2.537561  \n",
       "min         1.080000  \n",
       "25%         3.990000  \n",
       "50%         5.040000  \n",
       "75%         6.480000  \n",
       "max        28.255000  "
      ]
     },
     "execution_count": 37,
     "metadata": {},
     "output_type": "execute_result"
    }
   ],
   "source": [
    "# describe the data \n",
    "regress.describe()"
   ]
  },
  {
   "cell_type": "code",
   "execution_count": 38,
   "metadata": {},
   "outputs": [
    {
     "data": {
      "text/html": [
       "<div>\n",
       "<style scoped>\n",
       "    .dataframe tbody tr th:only-of-type {\n",
       "        vertical-align: middle;\n",
       "    }\n",
       "\n",
       "    .dataframe tbody tr th {\n",
       "        vertical-align: top;\n",
       "    }\n",
       "\n",
       "    .dataframe thead th {\n",
       "        text-align: right;\n",
       "    }\n",
       "</style>\n",
       "<table border=\"1\" class=\"dataframe\">\n",
       "  <thead>\n",
       "    <tr style=\"text-align: right;\">\n",
       "      <th></th>\n",
       "      <th>AssessTot</th>\n",
       "      <th>BldgArea</th>\n",
       "      <th>BuiltFAR</th>\n",
       "      <th>NumFloors</th>\n",
       "      <th>Age</th>\n",
       "      <th>SystemSizekWh</th>\n",
       "    </tr>\n",
       "  </thead>\n",
       "  <tbody>\n",
       "    <tr>\n",
       "      <th>AssessTot</th>\n",
       "      <td>1.000000</td>\n",
       "      <td>0.841642</td>\n",
       "      <td>0.471770</td>\n",
       "      <td>0.447224</td>\n",
       "      <td>0.028277</td>\n",
       "      <td>0.485645</td>\n",
       "    </tr>\n",
       "    <tr>\n",
       "      <th>BldgArea</th>\n",
       "      <td>0.841642</td>\n",
       "      <td>1.000000</td>\n",
       "      <td>0.640005</td>\n",
       "      <td>0.539376</td>\n",
       "      <td>0.042494</td>\n",
       "      <td>0.504121</td>\n",
       "    </tr>\n",
       "    <tr>\n",
       "      <th>BuiltFAR</th>\n",
       "      <td>0.471770</td>\n",
       "      <td>0.640005</td>\n",
       "      <td>1.000000</td>\n",
       "      <td>0.573688</td>\n",
       "      <td>0.082824</td>\n",
       "      <td>0.113446</td>\n",
       "    </tr>\n",
       "    <tr>\n",
       "      <th>NumFloors</th>\n",
       "      <td>0.447224</td>\n",
       "      <td>0.539376</td>\n",
       "      <td>0.573688</td>\n",
       "      <td>1.000000</td>\n",
       "      <td>0.016246</td>\n",
       "      <td>0.132844</td>\n",
       "    </tr>\n",
       "    <tr>\n",
       "      <th>Age</th>\n",
       "      <td>0.028277</td>\n",
       "      <td>0.042494</td>\n",
       "      <td>0.082824</td>\n",
       "      <td>0.016246</td>\n",
       "      <td>1.000000</td>\n",
       "      <td>0.075992</td>\n",
       "    </tr>\n",
       "    <tr>\n",
       "      <th>SystemSizekWh</th>\n",
       "      <td>0.485645</td>\n",
       "      <td>0.504121</td>\n",
       "      <td>0.113446</td>\n",
       "      <td>0.132844</td>\n",
       "      <td>0.075992</td>\n",
       "      <td>1.000000</td>\n",
       "    </tr>\n",
       "  </tbody>\n",
       "</table>\n",
       "</div>"
      ],
      "text/plain": [
       "               AssessTot  BldgArea  BuiltFAR  NumFloors       Age  \\\n",
       "AssessTot       1.000000  0.841642  0.471770   0.447224  0.028277   \n",
       "BldgArea        0.841642  1.000000  0.640005   0.539376  0.042494   \n",
       "BuiltFAR        0.471770  0.640005  1.000000   0.573688  0.082824   \n",
       "NumFloors       0.447224  0.539376  0.573688   1.000000  0.016246   \n",
       "Age             0.028277  0.042494  0.082824   0.016246  1.000000   \n",
       "SystemSizekWh   0.485645  0.504121  0.113446   0.132844  0.075992   \n",
       "\n",
       "               SystemSizekWh  \n",
       "AssessTot           0.485645  \n",
       "BldgArea            0.504121  \n",
       "BuiltFAR            0.113446  \n",
       "NumFloors           0.132844  \n",
       "Age                 0.075992  \n",
       "SystemSizekWh       1.000000  "
      ]
     },
     "execution_count": 38,
     "metadata": {},
     "output_type": "execute_result"
    }
   ],
   "source": [
    "# look at the correlation table \n",
    "regress.corr()"
   ]
  },
  {
   "cell_type": "code",
   "execution_count": 39,
   "metadata": {},
   "outputs": [
    {
     "name": "stderr",
     "output_type": "stream",
     "text": [
      "/usr/local/Anaconda3-5.0.0-Linux-x86_64/envs/ADS/lib/python3.5/site-packages/ipykernel_launcher.py:2: SettingWithCopyWarning: \n",
      "A value is trying to be set on a copy of a slice from a DataFrame.\n",
      "Try using .loc[row_indexer,col_indexer] = value instead\n",
      "\n",
      "See the caveats in the documentation: http://pandas.pydata.org/pandas-docs/stable/indexing.html#indexing-view-versus-copy\n",
      "  \n"
     ]
    }
   ],
   "source": [
    "# log of the tentative assessed total value for Fiscal Year 2018\n",
    "regress['logAssessTot'] = np.log10(regress['AssessTot'])"
   ]
  },
  {
   "cell_type": "code",
   "execution_count": 40,
   "metadata": {},
   "outputs": [
    {
     "name": "stderr",
     "output_type": "stream",
     "text": [
      "/usr/local/Anaconda3-5.0.0-Linux-x86_64/envs/ADS/lib/python3.5/site-packages/ipykernel_launcher.py:2: DataConversionWarning: Data with input dtype int64, float64 were all converted to float64 by the scale function.\n",
      "  \n"
     ]
    }
   ],
   "source": [
    "# whiten the data to minimize covariance \n",
    "solar_data = pd.DataFrame(columns=regress.columns, data=preprocessing.scale(regress))"
   ]
  },
  {
   "cell_type": "code",
   "execution_count": 41,
   "metadata": {},
   "outputs": [
    {
     "data": {
      "text/plain": [
       "Index(['AssessTot', 'BldgArea', 'BuiltFAR', 'NumFloors', 'Age',\n",
       "       'SystemSizekWh', 'logAssessTot'],\n",
       "      dtype='object')"
      ]
     },
     "execution_count": 41,
     "metadata": {},
     "output_type": "execute_result"
    }
   ],
   "source": [
    "solar_data.columns"
   ]
  },
  {
   "cell_type": "code",
   "execution_count": 42,
   "metadata": {},
   "outputs": [
    {
     "name": "stdout",
     "output_type": "stream",
     "text": [
      "AssessTot mean, std: 2.257299925586418e-17 1.0006922811490289\n",
      "BldgArea mean, std: 1.1255788064318668e-16 1.0006922811490289\n",
      "BuiltFAR mean, std: 4.066211022416894e-16 1.0006922811490284\n",
      "NumFloors mean, std: -1.9016600189430067e-15 1.0006922811490317\n",
      "Age mean, std: 2.172843125649511e-16 1.0006922811490295\n",
      "SystemSizekWh mean, std: -1.8434616058955747e-16 1.0006922811490293\n",
      "logAssessTot mean, std: -2.5779286497105294e-15 1.000692281149029\n"
     ]
    }
   ],
   "source": [
    "# confirm that whitening was done correctly (each variable should have mean=0, std=1)\n",
    "print('AssessTot mean, std:', solar_data.AssessTot.mean(), solar_data.AssessTot.std())\n",
    "print('BldgArea mean, std:', solar_data.BldgArea.mean(), solar_data.BldgArea.std())\n",
    "print('BuiltFAR mean, std:', solar_data.BuiltFAR.mean(), solar_data.BuiltFAR.std())\n",
    "print('NumFloors mean, std:', solar_data.NumFloors.mean(), solar_data.NumFloors.std())\n",
    "print('Age mean, std:', solar_data.Age.mean(), solar_data.Age.std())\n",
    "print('SystemSizekWh mean, std:', solar_data.SystemSizekWh.mean(), solar_data.SystemSizekWh.std())\n",
    "print('logAssessTot mean, std:', solar_data.logAssessTot.mean(), solar_data.logAssessTot.std())"
   ]
  },
  {
   "cell_type": "code",
   "execution_count": 43,
   "metadata": {},
   "outputs": [
    {
     "data": {
      "text/plain": [
       "<matplotlib.text.Text at 0x7f8c53deb320>"
      ]
     },
     "execution_count": 43,
     "metadata": {},
     "output_type": "execute_result"
    },
    {
     "data": {
      "image/png": "[encoded data removed]",
      "text/plain": [
       "<matplotlib.figure.Figure at 0x7f8c53d8f860>"
      ]
     },
     "metadata": {
      "needs_background": "light"
     },
     "output_type": "display_data"
    }
   ],
   "source": [
    "# plot the distributions \n",
    "plt.figure(figsize=(5, 5))\n",
    "plt.hist(solar_data['logAssessTot'], bins=75, color='blue')\n",
    "plt.title('Histogram of log AssessTot  (U.S. $)', fontsize=20)"
   ]
  },
  {
   "cell_type": "code",
   "execution_count": 44,
   "metadata": {},
   "outputs": [
    {
     "data": {
      "text/plain": [
       "<matplotlib.text.Text at 0x7f8c4bdd3048>"
      ]
     },
     "execution_count": 44,
     "metadata": {},
     "output_type": "execute_result"
    },
    {
     "data": {
      "image/png": "[encoded data removed]",
      "text/plain": [
       "<matplotlib.figure.Figure at 0x7f8c53dacb38>"
      ]
     },
     "metadata": {
      "needs_background": "light"
     },
     "output_type": "display_data"
    }
   ],
   "source": [
    "plt.figure(figsize = (5, 5))\n",
    "plt.scatter(solar_data['SystemSizekWh'], solar_data['logAssessTot'], c='b')\n",
    "plt.xlabel('Total System Size (kWh)')\n",
    "plt.ylabel('Assessed Total Value')\n",
    "plt.title('Assessed Total Value vs. Total System Size (kWh)', fontsize = 20)"
   ]
  },
  {
   "cell_type": "code",
   "execution_count": 45,
   "metadata": {},
   "outputs": [
    {
     "data": {
      "text/plain": [
       "<matplotlib.text.Text at 0x7f8c4bdc0390>"
      ]
     },
     "execution_count": 45,
     "metadata": {},
     "output_type": "execute_result"
    },
    {
     "data": {
      "image/png": "[encoded data removed]",
      "text/plain": [
       "<matplotlib.figure.Figure at 0x7f8c4bdc7d68>"
      ]
     },
     "metadata": {
      "needs_background": "light"
     },
     "output_type": "display_data"
    }
   ],
   "source": [
    "plt.figure(figsize = (5, 5))\n",
    "plt.scatter(solar_data['BldgArea'], solar_data['logAssessTot'], c='b')\n",
    "plt.xlabel('Building Area')\n",
    "plt.ylabel('Assessed Total Value')\n",
    "plt.title('Assessed Total Value vs. Building Area', fontsize = 20)"
   ]
  },
  {
   "cell_type": "code",
   "execution_count": 46,
   "metadata": {},
   "outputs": [
    {
     "data": {
      "text/plain": [
       "<matplotlib.text.Text at 0x7f8c4bd25320>"
      ]
     },
     "execution_count": 46,
     "metadata": {},
     "output_type": "execute_result"
    },
    {
     "data": {
      "image/png": "[encoded data removed]",
      "text/plain": [
       "<matplotlib.figure.Figure at 0x7f8c4bda6b38>"
      ]
     },
     "metadata": {
      "needs_background": "light"
     },
     "output_type": "display_data"
    }
   ],
   "source": [
    "plt.figure(figsize = (5, 5))\n",
    "plt.scatter(solar_data['BuiltFAR'], solar_data['logAssessTot'], c='b')\n",
    "plt.xlabel('Built FAR')\n",
    "plt.ylabel('Assessed Total Value')\n",
    "plt.title('Assessed Total Value vs. Built Floor Area Ratio', fontsize = 20)"
   ]
  },
  {
   "cell_type": "code",
   "execution_count": 47,
   "metadata": {},
   "outputs": [
    {
     "data": {
      "text/plain": [
       "<matplotlib.text.Text at 0x7f8c4bcfed30>"
      ]
     },
     "execution_count": 47,
     "metadata": {},
     "output_type": "execute_result"
    },
    {
     "data": {
      "image/png": "[encoded data removed]",
      "text/plain": [
       "<matplotlib.figure.Figure at 0x7f8c4bd8a710>"
      ]
     },
     "metadata": {
      "needs_background": "light"
     },
     "output_type": "display_data"
    }
   ],
   "source": [
    "plt.figure(figsize = (5, 5))\n",
    "plt.scatter(solar_data['NumFloors'], solar_data['logAssessTot'], c='b')\n",
    "plt.xlabel('Number of Floors')\n",
    "plt.ylabel('Assessed Total Value')\n",
    "plt.title('Assessed Total Value vs. Number of Floors', fontsize = 20)"
   ]
  },
  {
   "cell_type": "markdown",
   "metadata": {},
   "source": [
    "## linear regression"
   ]
  },
  {
   "cell_type": "code",
   "execution_count": 48,
   "metadata": {},
   "outputs": [
    {
     "name": "stdout",
     "output_type": "stream",
     "text": [
      "                            OLS Regression Results                            \n",
      "==============================================================================\n",
      "Dep. Variable:           logAssessTot   R-squared:                       0.437\n",
      "Model:                            OLS   Adj. R-squared:                  0.433\n",
      "Method:                 Least Squares   F-statistic:                     111.4\n",
      "Date:                Mon, 17 Dec 2018   Prob (F-statistic):           4.95e-87\n",
      "Time:                        15:13:30   Log-Likelihood:                -818.14\n",
      "No. Observations:                 723   AIC:                             1648.\n",
      "Df Residuals:                     717   BIC:                             1676.\n",
      "Df Model:                           5                                         \n",
      "Covariance Type:            nonrobust                                         \n",
      "=================================================================================\n",
      "                    coef    std err          t      P>|t|      [0.025      0.975]\n",
      "---------------------------------------------------------------------------------\n",
      "Intercept     -2.545e-15      0.028  -9.08e-14      1.000      -0.055       0.055\n",
      "BldgArea          0.5493      0.046     11.928      0.000       0.459       0.640\n",
      "BuiltFAR          0.0396      0.041      0.974      0.330      -0.040       0.120\n",
      "NumFloors         0.0530      0.036      1.484      0.138      -0.017       0.123\n",
      "Age              -0.1481      0.028     -5.245      0.000      -0.204      -0.093\n",
      "SystemSizekWh     0.0867      0.034      2.515      0.012       0.019       0.154\n",
      "==============================================================================\n",
      "Omnibus:                       53.564   Durbin-Watson:                   0.957\n",
      "Prob(Omnibus):                  0.000   Jarque-Bera (JB):              246.153\n",
      "Skew:                           0.014   Prob(JB):                     3.54e-54\n",
      "Kurtosis:                       5.858   Cond. No.                         3.15\n",
      "==============================================================================\n",
      "\n",
      "Warnings:\n",
      "[1] Standard Errors assume that the covariance matrix of the errors is correctly specified.\n"
     ]
    }
   ],
   "source": [
    "# run the regression --> unrestricted model \n",
    "solar_mod = smf.ols(formula = 'logAssessTot ~ BldgArea + BuiltFAR + NumFloors + Age + SystemSizekWh', \n",
    "                    data = solar_data).fit()\n",
    "print(solar_mod.summary())"
   ]
  },
  {
   "cell_type": "code",
   "execution_count": 49,
   "metadata": {},
   "outputs": [
    {
     "name": "stdout",
     "output_type": "stream",
     "text": [
      "                            OLS Regression Results                            \n",
      "==============================================================================\n",
      "Dep. Variable:           logAssessTot   R-squared:                       0.434\n",
      "Model:                            OLS   Adj. R-squared:                  0.431\n",
      "Method:                 Least Squares   F-statistic:                     183.5\n",
      "Date:                Mon, 17 Dec 2018   Prob (F-statistic):           2.52e-88\n",
      "Time:                        15:13:30   Log-Likelihood:                -820.40\n",
      "No. Observations:                 723   AIC:                             1649.\n",
      "Df Residuals:                     719   BIC:                             1667.\n",
      "Df Model:                           3                                         \n",
      "Covariance Type:            nonrobust                                         \n",
      "=================================================================================\n",
      "                    coef    std err          t      P>|t|      [0.025      0.975]\n",
      "---------------------------------------------------------------------------------\n",
      "Intercept     -2.545e-15      0.028  -9.07e-14      1.000      -0.055       0.055\n",
      "BldgArea          0.6138      0.032     18.887      0.000       0.550       0.678\n",
      "Age              -0.1451      0.028     -5.156      0.000      -0.200      -0.090\n",
      "SystemSizekWh     0.0654      0.033      2.009      0.045       0.002       0.129\n",
      "==============================================================================\n",
      "Omnibus:                       62.488   Durbin-Watson:                   0.957\n",
      "Prob(Omnibus):                  0.000   Jarque-Bera (JB):              341.487\n",
      "Skew:                           0.012   Prob(JB):                     7.03e-75\n",
      "Kurtosis:                       6.367   Cond. No.                         1.75\n",
      "==============================================================================\n",
      "\n",
      "Warnings:\n",
      "[1] Standard Errors assume that the covariance matrix of the errors is correctly specified.\n"
     ]
    }
   ],
   "source": [
    "# run the regression --> restricted model \n",
    "solar_mod2 = smf.ols(formula = 'logAssessTot ~ BldgArea + Age + SystemSizekWh', data = solar_data).fit()\n",
    "print(solar_mod2.summary())"
   ]
  },
  {
   "cell_type": "code",
   "execution_count": 50,
   "metadata": {},
   "outputs": [
    {
     "data": {
      "text/plain": [
       "(4.5372911244448915, 0.10345220480866898, 2.0)"
      ]
     },
     "execution_count": 50,
     "metadata": {},
     "output_type": "execute_result"
    }
   ],
   "source": [
    "# use the likelihood ratio test to determine which model is preferable\n",
    "solar_mod.compare_lr_test(solar_mod2)"
   ]
  },
  {
   "cell_type": "markdown",
   "metadata": {},
   "source": [
    "The likelihood ratio test returned a p-value of 0.10 so we fail to reject the null hypothesis that the simpler model (solar_mod2) is preferable. "
   ]
  },
  {
   "cell_type": "markdown",
   "metadata": {},
   "source": [
    "## Bayesian Inference"
   ]
  },
  {
   "cell_type": "code",
   "execution_count": 51,
   "metadata": {},
   "outputs": [
    {
     "name": "stderr",
     "output_type": "stream",
     "text": [
      "/usr/local/Anaconda3-5.0.0-Linux-x86_64/envs/ADS/lib/python3.5/site-packages/ipykernel_launcher.py:3: FutureWarning: Method .as_matrix will be removed in a future version. Use .values instead.\n",
      "  This is separate from the ipykernel package so we can avoid doing imports until\n",
      "/usr/local/Anaconda3-5.0.0-Linux-x86_64/envs/ADS/lib/python3.5/site-packages/ipykernel_launcher.py:4: FutureWarning: Method .as_matrix will be removed in a future version. Use .values instead.\n",
      "  after removing the cwd from sys.path.\n",
      "/usr/local/Anaconda3-5.0.0-Linux-x86_64/envs/ADS/lib/python3.5/site-packages/ipykernel_launcher.py:5: FutureWarning: Method .as_matrix will be removed in a future version. Use .values instead.\n",
      "  \"\"\"\n",
      "/usr/local/Anaconda3-5.0.0-Linux-x86_64/envs/ADS/lib/python3.5/site-packages/ipykernel_launcher.py:6: FutureWarning: Method .as_matrix will be removed in a future version. Use .values instead.\n",
      "  \n"
     ]
    }
   ],
   "source": [
    "# Create numpy arrays for PyMC3\n",
    "\n",
    "logAssessTot = solar_data['logAssessTot'].as_matrix()\n",
    "BldgArea = solar_data['BldgArea'].as_matrix()\n",
    "Age = solar_data['Age'].as_matrix()\n",
    "SystemSizekWh = solar_data['SystemSizekWh'].as_matrix()"
   ]
  },
  {
   "cell_type": "code",
   "execution_count": 52,
   "metadata": {},
   "outputs": [
    {
     "name": "stderr",
     "output_type": "stream",
     "text": [
      "logp = -839.93, ||grad|| = 47.409: 100%|██████████| 17/17 [00:00<00:00, 1346.33it/s]  \n",
      "Auto-assigning NUTS sampler...\n",
      "Initializing NUTS using jitter+adapt_diag...\n",
      "Multiprocess sampling (4 chains in 4 jobs)\n",
      "NUTS: [sigma, beta3, beta2, beta1, alpha]\n",
      "Sampling 4 chains: 100%|██████████| 6000/6000 [00:03<00:00, 1834.05draws/s]\n"
     ]
    }
   ],
   "source": [
    "with pm.Model() as model:\n",
    "    # come into the analysis with very diffuse priors \n",
    "    alpha = pm.Normal('alpha', mu=0, sd=20) # constant\n",
    "    beta1 = pm.Normal('beta1', mu=0, sd=20) # 3 features \n",
    "    beta2 = pm.Normal('beta2', mu=0, sd=20)\n",
    "    beta3 = pm.Normal('beta3', mu=0, sd=20)\n",
    "    sigma = pm.Uniform('sigma', lower=0, upper=10)\n",
    "    \n",
    "    # y_est is the specification of the Bayesian model to be estimated.  It is simply our CAPM.\n",
    "    # PyMC3 needs this equation to do the estimation \n",
    "    y_est = alpha + beta1 * BldgArea + beta2 * Age + beta3 * SystemSizekWh\n",
    "    \n",
    "    # likelihood is the likelihood function, here it is normal to be used with conjugate priors.    \n",
    "    likelihood = pm.Normal('y', mu=y_est, sd=sigma, observed=logAssessTot)\n",
    "    \n",
    "    # We use the Maximum a Posteriori (MAP) values as starting values for the MCMC sampling.\n",
    "    start = pm.find_MAP()\n",
    "    trace = pm.sample(1000, start=start, nuts_kwargs=dict(target_accept=.9), progressbar=True)"
   ]
  },
  {
   "cell_type": "code",
   "execution_count": 53,
   "metadata": {},
   "outputs": [
    {
     "data": {
      "text/plain": [
       "<matplotlib.figure.Figure at 0x7f8c1e531fd0>"
      ]
     },
     "execution_count": 53,
     "metadata": {},
     "output_type": "execute_result"
    },
    {
     "data": {
      "image/png": "[encoded data removed]",
      "text/plain": [
       "<matplotlib.figure.Figure at 0x7f8c2006a780>"
      ]
     },
     "metadata": {
      "needs_background": "light"
     },
     "output_type": "display_data"
    },
    {
     "data": {
      "text/plain": [
       "<matplotlib.figure.Figure at 0x7f8c1e531fd0>"
      ]
     },
     "metadata": {},
     "output_type": "display_data"
    }
   ],
   "source": [
    "# Show results after burn in of 200 MCMC replications.\n",
    "\n",
    "fig = pm.traceplot(trace[199:1000], lines={'beta3': 0.0654})\n",
    "plt.figure(figsize = (10, 10))"
   ]
  },
  {
   "cell_type": "code",
   "execution_count": 54,
   "metadata": {},
   "outputs": [
    {
     "name": "stdout",
     "output_type": "stream",
     "text": [
      "The probability that returns to schooling exceed 0.05 is 0.480649\n"
     ]
    }
   ],
   "source": [
    "print(\"The probability that returns to schooling exceed 0.05 is %f\" % np.mean(trace['beta3'][199:1000] > 0.0654))"
   ]
  },
  {
   "cell_type": "markdown",
   "metadata": {},
   "source": [
    "## classification"
   ]
  },
  {
   "cell_type": "code",
   "execution_count": 55,
   "metadata": {},
   "outputs": [
    {
     "name": "stderr",
     "output_type": "stream",
     "text": [
      "/usr/local/Anaconda3-5.0.0-Linux-x86_64/envs/ADS/lib/python3.5/site-packages/ipykernel_launcher.py:6: DataConversionWarning: Data with input dtype int64, float64 were all converted to float64 by the scale function.\n",
      "  \n"
     ]
    }
   ],
   "source": [
    "# restrict columns in no_solar dataset\n",
    "no_solar = no_solar[['AssessTot', 'BldgArea', 'BuiltFAR', 'NumFloors', 'Age']]\n",
    "# calculate log of assessed total value\n",
    "no_solar['logAssessTot'] = np.log10(no_solar['AssessTot'])\n",
    "# whiten the no_solar data as part of preprocessing to reduce covariance\n",
    "no_solar_data = pd.DataFrame(columns=no_solar.columns, data=preprocessing.scale(no_solar))"
   ]
  },
  {
   "cell_type": "code",
   "execution_count": 56,
   "metadata": {},
   "outputs": [],
   "source": [
    "# add indicators for unwhitened datasets\n",
    "solar_not_whiten = regress[['AssessTot', 'BldgArea', 'BuiltFAR', 'NumFloors', 'Age', 'logAssessTot']]\n",
    "no_solar_not_whiten = no_solar\n",
    "solar_not_whiten['Solar'] = 1\n",
    "no_solar_not_whiten['Solar'] = 0\n",
    "# combine \n",
    "combined_not_whiten = pd.concat([solar_not_whiten, no_solar_not_whiten])"
   ]
  },
  {
   "cell_type": "code",
   "execution_count": 57,
   "metadata": {},
   "outputs": [
    {
     "name": "stdout",
     "output_type": "stream",
     "text": [
      "AssessTot mean, std: -1.917098010621803e-17 1.0006942034852033\n",
      "BldgArea mean, std: 1.512890598743712e-17 1.0006942034852035\n",
      "BuiltFAR mean, std: -9.731774640264896e-17 1.0006942034852049\n",
      "NumFloors mean, std: 1.2480385041035913e-16 1.000694203485203\n",
      "Age mean, std: 3.302951994203829e-17 1.0006942034852067\n",
      "logAssessTot mean, std: 1.6969012110082143e-16 1.0006942034852055\n"
     ]
    }
   ],
   "source": [
    "# confirm that whitening was done correctly (each variable should have mean=0, std=1)\n",
    "print('AssessTot mean, std:', no_solar_data.AssessTot.mean(), no_solar_data.AssessTot.std())\n",
    "print('BldgArea mean, std:', no_solar_data.BldgArea.mean(), no_solar_data.BldgArea.std())\n",
    "print('BuiltFAR mean, std:', no_solar_data.BuiltFAR.mean(), no_solar_data.BuiltFAR.std())\n",
    "print('NumFloors mean, std:', no_solar_data.NumFloors.mean(), no_solar_data.NumFloors.std())\n",
    "print('Age mean, std:', no_solar_data.Age.mean(), no_solar_data.Age.std())\n",
    "print('logAssessTot mean, std:', no_solar_data.logAssessTot.mean(), no_solar_data.logAssessTot.std())"
   ]
  },
  {
   "cell_type": "code",
   "execution_count": 58,
   "metadata": {},
   "outputs": [],
   "source": [
    "# add a solar indicators to the solar_data and no_solar tables \n",
    "solar_data['Solar'] = 1\n",
    "no_solar_data['Solar'] = 0"
   ]
  },
  {
   "cell_type": "code",
   "execution_count": 59,
   "metadata": {},
   "outputs": [],
   "source": [
    "# drop columns so we can concatenate the tables \n",
    "solar_data = solar_data[['AssessTot', 'BldgArea', 'BuiltFAR', 'NumFloors', 'Age', 'logAssessTot', 'Solar']]"
   ]
  },
  {
   "cell_type": "code",
   "execution_count": 60,
   "metadata": {},
   "outputs": [],
   "source": [
    "# combine solar and no_solar into one table to use with logit classifier \n",
    "combined = pd.concat([solar_data, no_solar])"
   ]
  },
  {
   "cell_type": "code",
   "execution_count": 61,
   "metadata": {},
   "outputs": [
    {
     "data": {
      "text/plain": [
       "Index(['AssessTot', 'BldgArea', 'BuiltFAR', 'NumFloors', 'Age', 'logAssessTot',\n",
       "       'Solar'],\n",
       "      dtype='object')"
      ]
     },
     "execution_count": 61,
     "metadata": {},
     "output_type": "execute_result"
    }
   ],
   "source": [
    "combined.columns"
   ]
  },
  {
   "cell_type": "markdown",
   "metadata": {},
   "source": [
    "Notes\n",
    "1. Solar is categorical: 0 is \"No Solar Installed\", 1 is \"Solar Installed\".\n",
    "2. logAssessTot is log10 of the Assessed Total Value of the property. \n",
    "3. BldgArea is continuous measure of the building's area in square feet. \n",
    "4. BuiltFAR is continuous measure of the total building floor area divided by the area of the tax lot. \n",
    "5. Number of Floors is number of floors in the building. \n",
    "6. Age is age of the building. "
   ]
  },
  {
   "cell_type": "markdown",
   "metadata": {},
   "source": [
    "## linear probability model"
   ]
  },
  {
   "cell_type": "code",
   "execution_count": 62,
   "metadata": {},
   "outputs": [
    {
     "name": "stdout",
     "output_type": "stream",
     "text": [
      "                            OLS Regression Results                            \n",
      "==============================================================================\n",
      "Dep. Variable:                  Solar   R-squared:                       0.898\n",
      "Model:                            OLS   Adj. R-squared:                  0.898\n",
      "Method:                 Least Squares   F-statistic:                     4248.\n",
      "Date:                Mon, 17 Dec 2018   Prob (F-statistic):               0.00\n",
      "Time:                        15:13:45   Log-Likelihood:                 603.46\n",
      "No. Observations:                1444   AIC:                            -1199.\n",
      "Df Residuals:                    1440   BIC:                            -1178.\n",
      "Df Model:                           3                                         \n",
      "Covariance Type:            nonrobust                                         \n",
      "================================================================================\n",
      "                   coef    std err          t      P>|t|      [0.025      0.975]\n",
      "--------------------------------------------------------------------------------\n",
      "Intercept        0.9493      0.006    164.211      0.000       0.938       0.961\n",
      "logAssessTot    -0.1974      0.002   -106.970      0.000      -0.201      -0.194\n",
      "BldgArea      1.084e-06   2.84e-07      3.816      0.000    5.27e-07    1.64e-06\n",
      "Age             -0.0001   1.47e-05     -7.038      0.000      -0.000   -7.44e-05\n",
      "==============================================================================\n",
      "Omnibus:                      856.659   Durbin-Watson:                   1.156\n",
      "Prob(Omnibus):                  0.000   Jarque-Bera (JB):            16171.544\n",
      "Skew:                           2.386   Prob(JB):                         0.00\n",
      "Kurtosis:                      18.685   Cond. No.                     2.13e+04\n",
      "==============================================================================\n",
      "\n",
      "Warnings:\n",
      "[1] Standard Errors assume that the covariance matrix of the errors is correctly specified.\n",
      "[2] The condition number is large, 2.13e+04. This might indicate that there are\n",
      "strong multicollinearity or other numerical problems.\n"
     ]
    }
   ],
   "source": [
    "# run the linear probability model (assumes data is linear)\n",
    "# remove BuiltFAR and NumFloors, not statistically significant \n",
    "\n",
    "# experiment with taking age out of the model \n",
    "linear_prob_mod = smf.ols(formula='Solar ~ logAssessTot + BldgArea + Age', data = combined).fit()\n",
    "print(linear_prob_mod.summary())\n",
    "\n",
    "# age has a negative effect --> older buildings are less likely to have solar \n",
    "# it's easier to install solar on buildings with new roofs "
   ]
  },
  {
   "cell_type": "code",
   "execution_count": 63,
   "metadata": {},
   "outputs": [
    {
     "name": "stdout",
     "output_type": "stream",
     "text": [
      "          AssessTot       BldgArea     BuiltFAR    NumFloors          Age  \\\n",
      "count  1.444000e+03    1444.000000  1444.000000  1444.000000  1444.000000   \n",
      "mean   4.389552e+04    1812.029778     0.426918     1.025637    81.467452   \n",
      "std    3.334425e+05   15005.219868     0.928057     1.438685   294.681863   \n",
      "min   -6.005619e-01      -0.911229    -1.582972    -3.572403    -2.049516   \n",
      "25%   -1.154081e-01      -0.123423    -0.282733    -0.194918     0.019700   \n",
      "50%    1.337250e+01       0.723263     0.483479     1.071639     1.514972   \n",
      "75%    2.641600e+04    1841.000000     0.930000     2.000000    87.250000   \n",
      "max    1.053360e+07  534849.000000     6.915018    19.000000  2018.000000   \n",
      "\n",
      "       logAssessTot        Solar  \n",
      "count   1444.000000  1444.000000  \n",
      "mean       2.239655     0.500693  \n",
      "std        2.373122     0.500173  \n",
      "min       -2.870389     0.000000  \n",
      "25%        0.003026     0.000000  \n",
      "50%        3.158023     1.000000  \n",
      "75%        4.423684     1.000000  \n",
      "max        7.022577     1.000000  \n",
      "\n",
      "Intercept       0.949305\n",
      "logAssessTot   -0.197428\n",
      "BldgArea        0.000001\n",
      "Age            -0.000103\n",
      "dtype: float64\n",
      "\n",
      "The probability is 0.500693\n"
     ]
    }
   ],
   "source": [
    "# assumes linearity in the data \n",
    "print(combined.describe())\n",
    "print() \n",
    "print(linear_prob_mod.params)\n",
    "print()\n",
    "p = linear_prob_mod.params['Intercept'] + linear_prob_mod.params['logAssessTot'] * 2.239655 + \\\n",
    "        linear_prob_mod.params['BldgArea'] * 1812.029778 + linear_prob_mod.params['Age'] * 81.467452\n",
    "print(\"The probability is %f\" % p)"
   ]
  },
  {
   "cell_type": "markdown",
   "metadata": {},
   "source": [
    "**Interpretation**: According to the Linear Probability Model, the probability of a property having the predicted Assessed Total Value given average conditions for the independent variables is 50%. "
   ]
  },
  {
   "cell_type": "markdown",
   "metadata": {},
   "source": [
    "## logit classifier"
   ]
  },
  {
   "cell_type": "code",
   "execution_count": 64,
   "metadata": {},
   "outputs": [
    {
     "name": "stdout",
     "output_type": "stream",
     "text": [
      "Warning: Maximum number of iterations has been exceeded.\n",
      "         Current function value: 0.000000\n",
      "         Iterations: 35\n",
      "                           Logit Regression Results                           \n",
      "==============================================================================\n",
      "Dep. Variable:                  Solar   No. Observations:                 1444\n",
      "Model:                          Logit   Df Residuals:                     1438\n",
      "Method:                           MLE   Df Model:                            5\n",
      "Date:                Mon, 17 Dec 2018   Pseudo R-squ.:                   1.000\n",
      "Time:                        15:13:45   Log-Likelihood:            -8.3213e-08\n",
      "converged:                      False   LL-Null:                       -1000.9\n",
      "                                        LLR p-value:                     0.000\n",
      "================================================================================\n",
      "                   coef    std err          z      P>|z|      [0.025      0.975]\n",
      "--------------------------------------------------------------------------------\n",
      "Intercept       69.4347   9.96e+05   6.97e-05      1.000   -1.95e+06    1.95e+06\n",
      "logAssessTot   -13.5380   2.58e+05  -5.25e-05      1.000   -5.05e+05    5.05e+05\n",
      "BldgArea        -0.0266    400.903  -6.64e-05      1.000    -785.782     785.729\n",
      "BuiltFAR        16.9908   6.13e+05   2.77e-05      1.000    -1.2e+06     1.2e+06\n",
      "NumFloors       -4.5709   2.18e+05   -2.1e-05      1.000   -4.27e+05    4.27e+05\n",
      "Age             -0.4301   2886.823     -0.000      1.000   -5658.498    5657.638\n",
      "================================================================================\n",
      "\n",
      "Complete Separation: The results show that there iscomplete separation.\n",
      "In this case the Maximum Likelihood Estimator does not exist and the parameters\n",
      "are not identified.\n"
     ]
    },
    {
     "name": "stderr",
     "output_type": "stream",
     "text": [
      "/usr/local/Anaconda3-5.0.0-Linux-x86_64/envs/ADS/lib/python3.5/site-packages/statsmodels/base/model.py:508: ConvergenceWarning: Maximum Likelihood optimization failed to converge. Check mle_retvals\n",
      "  \"Check mle_retvals\", ConvergenceWarning)\n"
     ]
    }
   ],
   "source": [
    "# use logistic regression because the outcome is binary --> solar or no solar  \n",
    "logit_mod = smf.logit('Solar ~ logAssessTot + BldgArea + BuiltFAR + NumFloors + Age', data = combined).fit()\n",
    "print(logit_mod.summary())"
   ]
  },
  {
   "cell_type": "markdown",
   "metadata": {},
   "source": [
    "Results of the logistic regression run on the whitened data are not interpretable. All p-values are 1 and all features are statistically insignficant. "
   ]
  },
  {
   "cell_type": "code",
   "execution_count": 65,
   "metadata": {},
   "outputs": [],
   "source": [
    "# scale assessed total value \n",
    "combined_not_whiten['AssessTot_10000s'] = combined_not_whiten['AssessTot'] / 10000\n",
    "combined['AssessTot_10000s'] = combined['AssessTot'] / 10000"
   ]
  },
  {
   "cell_type": "code",
   "execution_count": 66,
   "metadata": {
    "scrolled": false
   },
   "outputs": [
    {
     "name": "stdout",
     "output_type": "stream",
     "text": [
      "Optimization terminated successfully.\n",
      "         Current function value: 0.651788\n",
      "         Iterations 8\n",
      "                           Logit Regression Results                           \n",
      "==============================================================================\n",
      "Dep. Variable:                  Solar   No. Observations:                 1444\n",
      "Model:                          Logit   Df Residuals:                     1438\n",
      "Method:                           MLE   Df Model:                            5\n",
      "Date:                Mon, 17 Dec 2018   Pseudo R-squ.:                 0.05967\n",
      "Time:                        15:13:45   Log-Likelihood:                -941.18\n",
      "converged:                       True   LL-Null:                       -1000.9\n",
      "                                        LLR p-value:                 4.120e-24\n",
      "====================================================================================\n",
      "                       coef    std err          z      P>|z|      [0.025      0.975]\n",
      "------------------------------------------------------------------------------------\n",
      "Intercept            0.7462      0.243      3.074      0.002       0.270       1.222\n",
      "AssessTot_10000s    -0.0995      0.026     -3.870      0.000      -0.150      -0.049\n",
      "BldgArea             0.0001   4.19e-05      2.984      0.003     4.3e-05       0.000\n",
      "BuiltFAR            -0.0651      0.147     -0.442      0.658      -0.354       0.224\n",
      "NumFloors            0.0810      0.114      0.708      0.479      -0.143       0.305\n",
      "Age                 -0.0099      0.002     -5.384      0.000      -0.013      -0.006\n",
      "====================================================================================\n"
     ]
    }
   ],
   "source": [
    "# use logistic regression because the outcome is binary --> solar or no solar  \n",
    "# run the regression on the unwhitened data\n",
    "logit_mod = smf.logit('Solar ~ AssessTot_10000s + BldgArea + BuiltFAR + NumFloors + Age', data = combined_not_whiten).fit()\n",
    "print(logit_mod.summary())"
   ]
  },
  {
   "cell_type": "code",
   "execution_count": 67,
   "metadata": {},
   "outputs": [
    {
     "name": "stdout",
     "output_type": "stream",
     "text": [
      "Optimization terminated successfully.\n",
      "         Current function value: 0.655851\n",
      "         Iterations 8\n",
      "                           Logit Regression Results                           \n",
      "==============================================================================\n",
      "Dep. Variable:                  Solar   No. Observations:                 1444\n",
      "Model:                          Logit   Df Residuals:                     1441\n",
      "Method:                           MLE   Df Model:                            2\n",
      "Date:                Mon, 17 Dec 2018   Pseudo R-squ.:                 0.05381\n",
      "Time:                        15:13:45   Log-Likelihood:                -947.05\n",
      "converged:                       True   LL-Null:                       -1000.9\n",
      "                                        LLR p-value:                 4.089e-24\n",
      "====================================================================================\n",
      "                       coef    std err          z      P>|z|      [0.025      0.975]\n",
      "------------------------------------------------------------------------------------\n",
      "Intercept            0.9283      0.152      6.088      0.000       0.629       1.227\n",
      "AssessTot_10000s    -0.0449      0.012     -3.659      0.000      -0.069      -0.021\n",
      "Age                 -0.0096      0.002     -5.259      0.000      -0.013      -0.006\n",
      "====================================================================================\n"
     ]
    }
   ],
   "source": [
    "# remove values with p value > 0.05 \n",
    "# remove BldgArea, BuiltFAR, NumFloors \n",
    "logit_mod = smf.logit('Solar ~ AssessTot_10000s + Age', data = combined_not_whiten).fit()\n",
    "print(logit_mod.summary())"
   ]
  },
  {
   "cell_type": "code",
   "execution_count": 68,
   "metadata": {},
   "outputs": [
    {
     "data": {
      "text/plain": [
       "Intercept           2.530201\n",
       "AssessTot_10000s    0.956127\n",
       "Age                 0.990494\n",
       "dtype: float64"
      ]
     },
     "execution_count": 68,
     "metadata": {},
     "output_type": "execute_result"
    }
   ],
   "source": [
    "# estimated coefficients are the log odds\n",
    "# exponentiate the values to calculate the odds \n",
    "np.exp(logit_mod.params)"
   ]
  },
  {
   "cell_type": "markdown",
   "metadata": {},
   "source": [
    "## classification algorithms"
   ]
  },
  {
   "cell_type": "code",
   "execution_count": 69,
   "metadata": {},
   "outputs": [
    {
     "name": "stdout",
     "output_type": "stream",
     "text": [
      "954\n",
      "490\n",
      "1444\n"
     ]
    }
   ],
   "source": [
    "# split solar dataset into 2/3 train and 1/3 test \n",
    "np.random.seed(1964)\n",
    "combined_not_whiten['index'] = np.random.uniform(low = 0, high = 1, size = len(combined_not_whiten))\n",
    "combined_not_whiten['test'] = pd.get_dummies(combined_not_whiten['index'] <= 0.3333)[1]\n",
    "\n",
    "# We don't need the index, so drop it.\n",
    "del combined_not_whiten['index']\n",
    "\n",
    "# Now we can create new train and test dataframes.\n",
    "combinedtest = combined_not_whiten[combined_not_whiten['test'] == 1]\n",
    "combinedtrain = combined_not_whiten[combined_not_whiten['test'] == 0]\n",
    "\n",
    "# Confirm data has been split properly.\n",
    "print(len(combinedtrain))\n",
    "print(len(combinedtest))\n",
    "print(len(combined))"
   ]
  },
  {
   "cell_type": "code",
   "execution_count": 70,
   "metadata": {},
   "outputs": [
    {
     "name": "stdout",
     "output_type": "stream",
     "text": [
      "Optimization terminated successfully.\n",
      "         Current function value: 0.656090\n",
      "         Iterations 8\n",
      "\n",
      "                           Logit Regression Results                           \n",
      "==============================================================================\n",
      "Dep. Variable:                  Solar   No. Observations:                  954\n",
      "Model:                          Logit   Df Residuals:                      951\n",
      "Method:                           MLE   Df Model:                            2\n",
      "Date:                Mon, 17 Dec 2018   Pseudo R-squ.:                 0.05287\n",
      "Time:                        15:13:45   Log-Likelihood:                -625.91\n",
      "converged:                       True   LL-Null:                       -660.85\n",
      "                                        LLR p-value:                 6.683e-16\n",
      "====================================================================================\n",
      "                       coef    std err          z      P>|z|      [0.025      0.975]\n",
      "------------------------------------------------------------------------------------\n",
      "Intercept            0.9903      0.188      5.258      0.000       0.621       1.359\n",
      "AssessTot_10000s    -0.0390      0.013     -2.922      0.003      -0.065      -0.013\n",
      "Age                 -0.0099      0.002     -4.420      0.000      -0.014      -0.006\n",
      "====================================================================================\n"
     ]
    },
    {
     "name": "stderr",
     "output_type": "stream",
     "text": [
      "/usr/local/Anaconda3-5.0.0-Linux-x86_64/envs/ADS/lib/python3.5/site-packages/ipykernel_launcher.py:6: SettingWithCopyWarning: \n",
      "A value is trying to be set on a copy of a slice from a DataFrame.\n",
      "Try using .loc[row_indexer,col_indexer] = value instead\n",
      "\n",
      "See the caveats in the documentation: http://pandas.pydata.org/pandas-docs/stable/indexing.html#indexing-view-versus-copy\n",
      "  \n"
     ]
    }
   ],
   "source": [
    "# Logit classifier \n",
    "logit_mod = smf.logit('Solar ~ AssessTot_10000s + Age', data = combinedtrain).fit()\n",
    "print()\n",
    "print(logit_mod.summary())\n",
    "pred = np.array(logit_mod.predict(combinedtest))\n",
    "combinedtest['pred'] = logit_mod.predict(combinedtest)"
   ]
  },
  {
   "cell_type": "code",
   "execution_count": 71,
   "metadata": {},
   "outputs": [
    {
     "data": {
      "text/plain": [
       "Intercept           2.691932\n",
       "AssessTot_10000s    0.961798\n",
       "Age                 0.990159\n",
       "dtype: float64"
      ]
     },
     "execution_count": 71,
     "metadata": {},
     "output_type": "execute_result"
    }
   ],
   "source": [
    "# estimated coefficients are the log odds\n",
    "# exponentiate the values to calculate the odds \n",
    "np.exp(logit_mod.params)"
   ]
  },
  {
   "cell_type": "code",
   "execution_count": 72,
   "metadata": {},
   "outputs": [
    {
     "data": {
      "text/plain": [
       "0.4902512356245618"
      ]
     },
     "execution_count": 72,
     "metadata": {},
     "output_type": "execute_result"
    }
   ],
   "source": [
    "# calculate the odds ratios and probabilities \n",
    "odds_ratio = np.exp(-0.0390)\n",
    "probability = odds_ratio / (1 + odds_ratio)\n",
    "probability"
   ]
  },
  {
   "cell_type": "code",
   "execution_count": 73,
   "metadata": {},
   "outputs": [
    {
     "data": {
      "text/plain": [
       "0.49752502021436434"
      ]
     },
     "execution_count": 73,
     "metadata": {},
     "output_type": "execute_result"
    }
   ],
   "source": [
    "# calculate the odds ratios and probabilities \n",
    "odds_ratio = np.exp(-0.0099)\n",
    "probability = odds_ratio / (1 + odds_ratio) \n",
    "probability"
   ]
  },
  {
   "cell_type": "markdown",
   "metadata": {},
   "source": [
    "**Interpretation**: According to the Logit Classifier, if the assessed total value of a property goes down $10,000, then the likelihood of that property having solar goes down 49% and if the age of a property goes up one unit then the likelihood of that property having solar goes down 49%. "
   ]
  },
  {
   "cell_type": "markdown",
   "metadata": {},
   "source": [
    "## K Nearest Neighbors"
   ]
  },
  {
   "cell_type": "code",
   "execution_count": 74,
   "metadata": {},
   "outputs": [
    {
     "name": "stdout",
     "output_type": "stream",
     "text": [
      "The confusion matrix is:\n",
      "╒═════╤═════╕\n",
      "│ 145 │ 113 │\n",
      "├─────┼─────┤\n",
      "│ 79  │ 153 │\n",
      "╘═════╧═════╛\n",
      "The Accuracy Rate is 0.608163265306\n",
      "The Mean Squared Error is 0.391836734694\n"
     ]
    },
    {
     "name": "stderr",
     "output_type": "stream",
     "text": [
      "/usr/local/Anaconda3-5.0.0-Linux-x86_64/envs/ADS/lib/python3.5/site-packages/ipykernel_launcher.py:1: FutureWarning: Method .as_matrix will be removed in a future version. Use .values instead.\n",
      "  \"\"\"Entry point for launching an IPython kernel.\n",
      "/usr/local/Anaconda3-5.0.0-Linux-x86_64/envs/ADS/lib/python3.5/site-packages/ipykernel_launcher.py:2: FutureWarning: Method .as_matrix will be removed in a future version. Use .values instead.\n",
      "  \n",
      "/usr/local/Anaconda3-5.0.0-Linux-x86_64/envs/ADS/lib/python3.5/site-packages/ipykernel_launcher.py:4: FutureWarning: Method .as_matrix will be removed in a future version. Use .values instead.\n",
      "  after removing the cwd from sys.path.\n",
      "/usr/local/Anaconda3-5.0.0-Linux-x86_64/envs/ADS/lib/python3.5/site-packages/ipykernel_launcher.py:5: FutureWarning: Method .as_matrix will be removed in a future version. Use .values instead.\n",
      "  \"\"\"\n"
     ]
    }
   ],
   "source": [
    "ytrain = combinedtrain['Solar'].as_matrix(columns=None)\n",
    "ytest = combinedtest['Solar'].as_matrix(columns=None)\n",
    "\n",
    "Xtrain = combinedtrain[['Age', 'BldgArea', 'BuiltFAR', 'NumFloors', 'logAssessTot']].as_matrix(columns=None)\n",
    "Xtest = combinedtest[['Age', 'BldgArea', 'BuiltFAR', 'NumFloors', 'logAssessTot']].as_matrix(columns=None)\n",
    "\n",
    "# square root of 1446\n",
    "NN = 38 \n",
    "how = 'distance'\n",
    "knn = neighbors.KNeighborsClassifier(NN, how)\n",
    "knn.fit(Xtrain, ytrain)\n",
    "\n",
    "ypred = knn.predict(Xtest)\n",
    "cm = confusion_matrix(ytest, ypred)\n",
    "KNN_cm = cm\n",
    "KNN_MSE = mean_squared_error(ytest, ypred)\n",
    "\n",
    "KNN_ACC = (KNN_cm[0][0] + KNN_cm[1][1]) / (len(ypred))\n",
    "\n",
    "table = [[\" \",\"0\", \"1\"],\n",
    "         [\"0\", cm[0][0], cm[0][1]], \n",
    "         [\"1\", cm[1][0], cm[1][1]]] \n",
    "    \n",
    "\n",
    "print(\"The confusion matrix is:\")\n",
    "print(tabulate(KNN_cm, tablefmt=\"fancy_grid\", numalign = \"center\"))\n",
    "print(\"The Accuracy Rate is\", KNN_ACC)\n",
    "print(\"The Mean Squared Error is\", KNN_MSE)"
   ]
  },
  {
   "cell_type": "markdown",
   "metadata": {},
   "source": [
    "## Random Forest"
   ]
  },
  {
   "cell_type": "code",
   "execution_count": null,
   "metadata": {},
   "outputs": [],
   "source": [
    "# RFF \n",
    "from sklearn.ensemble import RandomForestClassifier\n",
    "\n",
    "np.random.seed(1964)\n",
    "rf = RandomForestClassifier(n_estimators = 100)\n",
    "rf.fit(Xtrain, ytrain)\n",
    "ypred = rf.predict(Xtest)\n",
    "cm = confusion_matrix(ytest, ypred)\n",
    "RF_cm = cm\n",
    "RF_MSE = mean_squared_error(ytest, ypred)\n",
    "\n",
    "RF_ACC = (RF_cm[0][0] + RF_cm[1][1]) / (len(ypred))\n",
    "\n",
    "table = [[\" \",\"0\", \"1\"],\n",
    "         [\"0\", RF_cm[0][0], RF_cm[0][1]], \n",
    "         [\"1\", RF_cm[1][0], RF_cm[1][1]]]\n",
    "print(\"The confusion matrix is:\")\n",
    "print(tabulate(table, tablefmt=\"fancy_grid\", numalign = \"center\"))\n",
    "print(\"The Accuracy Rate is\", RF_ACC)\n",
    "print(\"The Mean Squared Error is\", RF_MSE)"
   ]
  },
  {
   "cell_type": "markdown",
   "metadata": {},
   "source": [
    "## Linear Discriminant Analysis"
   ]
  },
  {
   "cell_type": "code",
   "execution_count": null,
   "metadata": {},
   "outputs": [],
   "source": [
    "# LDA\n",
    "from sklearn.discriminant_analysis import LinearDiscriminantAnalysis as LDA\n",
    "\n",
    "lda = LDA()\n",
    "lda.fit(Xtrain, ytrain)\n",
    "ypred = lda.predict(Xtest)\n",
    "LDA_MSE = mean_squared_error(ytest, ypred)\n",
    "\n",
    "LDA_cm = confusion_matrix(ytest, ypred)\n",
    "\n",
    "LDA_ACC = (LDA_cm[0][0] + LDA_cm[1][1]) / (len(ypred))\n",
    "\n",
    "table = [[\" \",\"0\", \"1\"],\n",
    "         [\"0\", LDA_cm[0][0], LDA_cm[0][1]], \n",
    "         [\"1\", LDA_cm[1][0], LDA_cm[1][1]]]\n",
    "print(\"The confusion matrix is:\")\n",
    "print(tabulate(table, tablefmt=\"fancy_grid\", numalign = \"center\"))\n",
    "print(\"The Accuracy Rate is\", LDA_ACC)\n",
    "print(\"The Mean Squared Error is\", LDA_MSE)"
   ]
  },
  {
   "cell_type": "markdown",
   "metadata": {},
   "source": [
    "## MN Logit"
   ]
  },
  {
   "cell_type": "code",
   "execution_count": null,
   "metadata": {},
   "outputs": [],
   "source": [
    "# MNL \n",
    "from statsmodels.discrete.discrete_model import MNLogit\n",
    "\n",
    "mnlogit = MNLogit(combinedtrain['Solar'], combinedtrain[['Age', 'BldgArea', 'BuiltFAR', 'NumFloors', \n",
    "                                                         'logAssessTot']]).fit()\n",
    "print(mnlogit.summary())\n",
    "print()\n",
    "pred = np.array(mnlogit.predict(combinedtest[['Age', 'BldgArea', 'BuiltFAR', 'NumFloors', \n",
    "                                                         'logAssessTot']]))\n",
    "\n",
    "prediction = np.zeros((len(ypred),), dtype=np.int) + 3\n",
    "for i in range(len(prediction)): \n",
    "    if pred[i][0] > pred[i][1] and pred[i][0]: prediction[i] = 0\n",
    "    if pred[i][1] > pred[i][0] and pred[i][1]: prediction[i] = 1\n",
    "        \n",
    "MNLcm = confusion_matrix(ytest, prediction)\n",
    "MNLMSE = mean_squared_error(ytest, prediction)\n",
    "\n",
    "ACC = (MNLcm[0][0] + MNLcm[1][1]) / (len(ypred))\n",
    "\n",
    "table = [[\" \",\"0\", \"1\"],\n",
    "         [\"0\", MNLcm[0][0], MNLcm[0][1]], \n",
    "         [\"1\", MNLcm[1][0], MNLcm[1][1]]]\n",
    "print(\"The confusion matrix is:\")\n",
    "print(tabulate(table, tablefmt=\"fancy_grid\", numalign = \"center\"))\n",
    "print(\"The Accuracy Rate is\", ACC)\n",
    "print(\"The Mean Squared Error is\", MNLMSE)"
   ]
  },
  {
   "cell_type": "markdown",
   "metadata": {},
   "source": [
    "## Naive Bayes"
   ]
  },
  {
   "cell_type": "code",
   "execution_count": null,
   "metadata": {},
   "outputs": [],
   "source": [
    "# NB \n",
    "from sklearn.naive_bayes import GaussianNB\n",
    "\n",
    "gnb = GaussianNB()\n",
    "gnb.fit(Xtrain, ytrain)\n",
    "ypred = gnb.predict(Xtest)\n",
    "NB_MSE = mean_squared_error(ytest, ypred)\n",
    "\n",
    "NB_cm = confusion_matrix(ytest, ypred)\n",
    "\n",
    "NB_ACC = (NB_cm[0][0] + NB_cm[1][1]) / (len(ypred))\n",
    "\n",
    "table = [[\" \",\"0\", \"1\"],\n",
    "         [\"0\", NB_cm[0][0], NB_cm[0][1]], \n",
    "         [\"1\", NB_cm[1][0], NB_cm[1][1]]]\n",
    "print(\"The confusion matrix is:\")\n",
    "print(tabulate(table, tablefmt=\"fancy_grid\", numalign = \"center\"))\n",
    "print(\"The Accuracy Rate is\", NB_ACC)\n",
    "print(\"The Mean Squared Error is\", NB_MSE)"
   ]
  },
  {
   "cell_type": "markdown",
   "metadata": {},
   "source": [
    "## Guessing"
   ]
  },
  {
   "cell_type": "code",
   "execution_count": null,
   "metadata": {},
   "outputs": [],
   "source": [
    "# Guessing\n",
    "ypred = np.random.permutation(ytest)\n",
    "RAN_cm = confusion_matrix(ytest, ypred)\n",
    "RAN_ACC = (RAN_cm[0][0] + RAN_cm[1][1]) / (len(ypred))\n",
    "RAN_MSE = mean_squared_error(ytest, ypred)\n",
    "\n",
    "print(\"The Accuracy Rate is\", RAN_ACC)\n",
    "print(\"The Mean Squared Error is\", RAN_MSE)"
   ]
  },
  {
   "cell_type": "code",
   "execution_count": null,
   "metadata": {},
   "outputs": [],
   "source": [
    "# for MNL \n",
    "endogtrain = combinedtrain['Solar']\n",
    "exogtrain = combinedtrain[['Age', 'BldgArea', 'BuiltFAR', 'NumFloors', 'logAssessTot']]\n",
    "exogtest = combinedtest[['Age', 'BldgArea', 'BuiltFAR', 'NumFloors', 'logAssessTot']]"
   ]
  },
  {
   "cell_type": "code",
   "execution_count": null,
   "metadata": {},
   "outputs": [],
   "source": [
    "# KNN, RF, LDA, MNL, and NB Classifiers using solar data.  Let's bring this all together for ease of use.\n",
    "\n",
    "NN = 38\n",
    "how = 'distance'\n",
    "ypred = knn.predict(Xtest)\n",
    "cm = confusion_matrix(ytest, ypred)\n",
    "knnACC = (cm[0][0] + cm[1][1]) / (len(ypred))\n",
    "knnMSE = mean_squared_error(ytest, ypred)\n",
    "\n",
    "rf = RandomForestClassifier(n_estimators = 20)\n",
    "rf.fit(Xtrain, ytrain)\n",
    "ypred = rf.predict(Xtest)\n",
    "cm = confusion_matrix(ytest, ypred)\n",
    "rfACC = (cm[0][0] + cm[1][1]) / (len(ypred))\n",
    "rfMSE = mean_squared_error(ytest, ypred)\n",
    "\n",
    "lda = LDA()\n",
    "lda.fit(Xtrain, ytrain)\n",
    "ypred = lda.predict(Xtest)\n",
    "cm = confusion_matrix(ytest, ypred)\n",
    "ldaACC = (cm[0][0] + cm[1][1]) / (len(ypred))\n",
    "ldaMSE = mean_squared_error(ytest, ypred)\n",
    "\n",
    "mnlogit = MNLogit(endogtrain, exogtrain).fit()\n",
    "pred = np.array(mnlogit.predict(exogtest))\n",
    "prediction = np.zeros((len(ypred),), dtype=np.int) + 2\n",
    "for i in range(len(prediction)): \n",
    "    if pred[i][0] > pred[i][1] and pred[i][0]: prediction[i] = 0\n",
    "    if pred[i][1] > pred[i][0] and pred[i][1]: prediction[i] = 1\n",
    "cm = confusion_matrix(ytest, prediction)\n",
    "mnlACC = (cm[0][0] + cm[1][1]) / (len(ypred))\n",
    "mnlMSE = mean_squared_error(ytest, prediction)\n",
    "\n",
    "gnb = GaussianNB()\n",
    "gnb.fit(Xtrain, ytrain)\n",
    "ypred = gnb.predict(Xtest)\n",
    "cm = confusion_matrix(ytest, ypred)\n",
    "nbACC = (cm[0][0] + cm[1][1]) / (len(ypred))\n",
    "nbMSE = mean_squared_error(ytest, ypred)\n",
    "\n",
    "# What would a confusion matrix with random allocation look like?\n",
    "\n",
    "ypred = np.random.permutation(ytest)\n",
    "cm = confusion_matrix(ytest, ypred)\n",
    "ranACC = (cm[0][0] + cm[1][1]) / (len(ypred))\n",
    "ranMSE = mean_squared_error(ytest, ypred)"
   ]
  },
  {
   "cell_type": "code",
   "execution_count": null,
   "metadata": {},
   "outputs": [],
   "source": [
    "# Here is the relative performance of our classifiers, including random guessing.\n",
    "\n",
    "print('Accuracy of KNN, RF, LDA, MNL, NB, and Guessing')\n",
    "print('%f %f %f %f %f %f' % (knnACC, rfACC, ldaACC, mnlACC, nbACC, ranACC))\n",
    "print('')\n",
    "print('MSE of KNN, RF, LDA, MNL, NB, and Guessing')\n",
    "print('%f %f %f %f %f %f' % (knnMSE, rfMSE, ldaMSE, mnlMSE, nbMSE, ranMSE))"
   ]
  },
  {
   "cell_type": "code",
   "execution_count": null,
   "metadata": {},
   "outputs": [],
   "source": [
    "# format table     \n",
    "table = [[\"Algorithm\",\"Accuracy\", \"MSE\"],\n",
    "         [\"KNN\", \"{0:.3f}\".format(knnACC), \"{0:.3f}\".format(knnMSE)], \n",
    "         [\"RF\", \"{0:.3f}\".format(rfACC), \"{0:.3f}\".format(rfMSE)],\n",
    "         [\"LDA\", \"{0:.3f}\".format(ldaACC), \"{0:.3f}\".format(ldaMSE)],\n",
    "         [\"MNL\", \"{0:.3f}\".format(mnlACC), \"{0:.3f}\".format(mnlMSE)],\n",
    "         [\"NB\", \"{0:.3f}\".format(nbACC), \"{0:.3f}\".format(nbMSE)],\n",
    "         [\"Guessing\", \"{0:.3f}\".format(ranACC), \"{0:.3f}\".format(ranMSE)]]\n",
    "\n",
    "#print(\"Accuracy and MSE for Clustering Algorithms\")\n",
    "print(tabulate(table, tablefmt=\"fancy_grid\", numalign = \"center\"))"
   ]
  },
  {
   "cell_type": "code",
   "execution_count": null,
   "metadata": {},
   "outputs": [],
   "source": []
  }
 ],
 "metadata": {
  "kernelspec": {
   "display_name": "ADS",
   "language": "python",
   "name": "ads"
  },
  "language_info": {
   "codemirror_mode": {
    "name": "ipython",
    "version": 3
   },
   "file_extension": ".py",
   "mimetype": "text/x-python",
   "name": "python",
   "nbconvert_exporter": "python",
   "pygments_lexer": "ipython3",
   "version": "3.5.0"
  }
 },
 "nbformat": 4,
 "nbformat_minor": 2
}
